{
 "cells": [
  {
   "cell_type": "code",
   "execution_count": 34,
   "id": "1b9d1386",
   "metadata": {},
   "outputs": [],
   "source": [
    "import pandas as pd\n",
    "import numpy as np"
   ]
  },
  {
   "cell_type": "code",
   "execution_count": 40,
   "id": "e519c815",
   "metadata": {},
   "outputs": [],
   "source": [
    "df=pd.read_csv(\"ficher.csv\")"
   ]
  },
  {
   "cell_type": "code",
   "execution_count": 38,
   "id": "224b7643",
   "metadata": {},
   "outputs": [
    {
     "data": {
      "text/html": [
       "<div>\n",
       "<style scoped>\n",
       "    .dataframe tbody tr th:only-of-type {\n",
       "        vertical-align: middle;\n",
       "    }\n",
       "\n",
       "    .dataframe tbody tr th {\n",
       "        vertical-align: top;\n",
       "    }\n",
       "\n",
       "    .dataframe thead th {\n",
       "        text-align: right;\n",
       "    }\n",
       "</style>\n",
       "<table border=\"1\" class=\"dataframe\">\n",
       "  <thead>\n",
       "    <tr style=\"text-align: right;\">\n",
       "      <th></th>\n",
       "      <th>sexe</th>\n",
       "      <th>age</th>\n",
       "      <th>taille</th>\n",
       "      <th>poids</th>\n",
       "    </tr>\n",
       "  </thead>\n",
       "  <tbody>\n",
       "    <tr>\n",
       "      <th>0</th>\n",
       "      <td>1</td>\n",
       "      <td>147</td>\n",
       "      <td>151.13</td>\n",
       "      <td>45.80</td>\n",
       "    </tr>\n",
       "    <tr>\n",
       "      <th>1</th>\n",
       "      <td>0</td>\n",
       "      <td>160</td>\n",
       "      <td>150.62</td>\n",
       "      <td>35.60</td>\n",
       "    </tr>\n",
       "    <tr>\n",
       "      <th>2</th>\n",
       "      <td>1</td>\n",
       "      <td>148</td>\n",
       "      <td>149.86</td>\n",
       "      <td>43.08</td>\n",
       "    </tr>\n",
       "    <tr>\n",
       "      <th>3</th>\n",
       "      <td>0</td>\n",
       "      <td>149</td>\n",
       "      <td>144.78</td>\n",
       "      <td>41.72</td>\n",
       "    </tr>\n",
       "    <tr>\n",
       "      <th>4</th>\n",
       "      <td>0</td>\n",
       "      <td>156</td>\n",
       "      <td>156.21</td>\n",
       "      <td>49.21</td>\n",
       "    </tr>\n",
       "  </tbody>\n",
       "</table>\n",
       "</div>"
      ],
      "text/plain": [
       "   sexe  age  taille  poids\n",
       "0     1  147  151.13  45.80\n",
       "1     0  160  150.62  35.60\n",
       "2     1  148  149.86  43.08\n",
       "3     0  149  144.78  41.72\n",
       "4     0  156  156.21  49.21"
      ]
     },
     "execution_count": 38,
     "metadata": {},
     "output_type": "execute_result"
    }
   ],
   "source": [
    "df.head()"
   ]
  },
  {
   "cell_type": "code",
   "execution_count": 39,
   "id": "db125b93",
   "metadata": {},
   "outputs": [
    {
     "data": {
      "text/plain": [
       "<bound method NDFrame.describe of      sexe  age  taille  poids\n",
       "0       1  147  151.13  45.80\n",
       "1       0  160  150.62  35.60\n",
       "2       1  148  149.86  43.08\n",
       "3       0  149  144.78  41.72\n",
       "4       0  156  156.21  49.21\n",
       "..    ...  ...     ...    ...\n",
       "232     1  178  156.21  46.94\n",
       "233     1  166  150.62  40.59\n",
       "234     1  193  151.89  52.15\n",
       "235     0  166  158.75  38.10\n",
       "236     1  165  140.97  30.39\n",
       "\n",
       "[237 rows x 4 columns]>"
      ]
     },
     "execution_count": 39,
     "metadata": {},
     "output_type": "execute_result"
    }
   ],
   "source": [
    "df.describe"
   ]
  },
  {
   "cell_type": "code",
   "execution_count": 41,
   "id": "e4d96937",
   "metadata": {},
   "outputs": [
    {
     "data": {
      "text/plain": [
       "sexe      0.0\n",
       "age       0.0\n",
       "taille    0.0\n",
       "poids     0.0\n",
       "dtype: float64"
      ]
     },
     "execution_count": 41,
     "metadata": {},
     "output_type": "execute_result"
    }
   ],
   "source": [
    "df.isnull().mean()"
   ]
  },
  {
   "cell_type": "code",
   "execution_count": 42,
   "id": "d2d84f18",
   "metadata": {},
   "outputs": [],
   "source": [
    "##Par convention on note la matrice des variables prédictives X "
   ]
  },
  {
   "cell_type": "code",
   "execution_count": 43,
   "id": "28e1f551",
   "metadata": {},
   "outputs": [],
   "source": [
    "X=df[['age','taille']]"
   ]
  },
  {
   "cell_type": "code",
   "execution_count": 44,
   "id": "625468a7",
   "metadata": {},
   "outputs": [],
   "source": [
    "##De même par convention on note le vecteur (array) de la variable cible y  ."
   ]
  },
  {
   "cell_type": "code",
   "execution_count": 45,
   "id": "6139bedd",
   "metadata": {},
   "outputs": [],
   "source": [
    "Y=df.poids"
   ]
  },
  {
   "cell_type": "code",
   "execution_count": 46,
   "id": "153203e9",
   "metadata": {},
   "outputs": [],
   "source": [
    "##Étape 2 : entraîner le modèle\n",
    "\n",
    "##Maintenant, étape 2, on passe au modèle.\n",
    "##On choisit la régression linéaire de scikit-learn :"
   ]
  },
  {
   "cell_type": "code",
   "execution_count": 47,
   "id": "d65ab8cd",
   "metadata": {},
   "outputs": [],
   "source": [
    "from sklearn.linear_model import LinearRegression\n",
    "reg = LinearRegression()"
   ]
  },
  {
   "cell_type": "code",
   "execution_count": 48,
   "id": "dc760a38",
   "metadata": {},
   "outputs": [],
   "source": [
    "##Entraîner le modèle consiste à appliquer la méthode  fit()  sur le modèle en lui fournissant en entrée les valeurs\n",
    "##des variables prédictives  X  et de la variable cible  y  ."
   ]
  },
  {
   "cell_type": "code",
   "execution_count": 49,
   "id": "76c0dbad",
   "metadata": {},
   "outputs": [
    {
     "data": {
      "text/plain": [
       "LinearRegression()"
      ]
     },
     "execution_count": 49,
     "metadata": {},
     "output_type": "execute_result"
    }
   ],
   "source": [
    "reg.fit(X,Y)"
   ]
  },
  {
   "cell_type": "code",
   "execution_count": 50,
   "id": "f9daa680",
   "metadata": {},
   "outputs": [],
   "source": [
    "##À ce stade, le modèle est entièrement entraîné sur le jeu de données."
   ]
  },
  {
   "cell_type": "code",
   "execution_count": 51,
   "id": "f2d12ad3",
   "metadata": {},
   "outputs": [],
   "source": [
    "##Étape 3 : évaluer le modèle\n",
    "\n",
    "##Enfin, étape 3, on regarde la performance du modèle par l'intermédiaire du score."
   ]
  },
  {
   "cell_type": "code",
   "execution_count": 52,
   "id": "36e13667",
   "metadata": {},
   "outputs": [
    {
     "name": "stdout",
     "output_type": "stream",
     "text": [
      "0.6304499024870158\n"
     ]
    }
   ],
   "source": [
    "print(reg.score(X,Y))"
   ]
  },
  {
   "cell_type": "code",
   "execution_count": 53,
   "id": "9c623975",
   "metadata": {},
   "outputs": [
    {
     "name": "stdout",
     "output_type": "stream",
     "text": [
      "[0.10895575 0.55173258]\n"
     ]
    }
   ],
   "source": [
    "print(reg.coef_)"
   ]
  },
  {
   "cell_type": "code",
   "execution_count": 54,
   "id": "6e5effc5",
   "metadata": {},
   "outputs": [],
   "source": [
    "##Retournez sur le notebook Colab et cette fois, entraînez un modèle pour tous les prédicteurs : sexe, age et taille.\n",
    "##Il vous suffit d'ajouter la colonne  taille  à la matrice de design :"
   ]
  },
  {
   "cell_type": "code",
   "execution_count": 55,
   "id": "4c899b21",
   "metadata": {},
   "outputs": [],
   "source": [
    "X = df[['sexe','age', 'taille']]"
   ]
  },
  {
   "cell_type": "code",
   "execution_count": 56,
   "id": "24331989",
   "metadata": {},
   "outputs": [],
   "source": [
    "##Vous devriez observer un meilleur score que sans la colonne taille. Qu'observez-vous au niveau des coefficients ?"
   ]
  },
  {
   "cell_type": "code",
   "execution_count": 57,
   "id": "aea80f38",
   "metadata": {},
   "outputs": [
    {
     "data": {
      "text/plain": [
       "LinearRegression()"
      ]
     },
     "execution_count": 57,
     "metadata": {},
     "output_type": "execute_result"
    }
   ],
   "source": [
    "reg.fit(X,Y)"
   ]
  },
  {
   "cell_type": "code",
   "execution_count": 58,
   "id": "c3c1ea2a",
   "metadata": {},
   "outputs": [
    {
     "name": "stdout",
     "output_type": "stream",
     "text": [
      "0.6305200466878815\n"
     ]
    }
   ],
   "source": [
    "print(reg.score(X,Y))"
   ]
  },
  {
   "cell_type": "code",
   "execution_count": 59,
   "id": "b76573ef",
   "metadata": {},
   "outputs": [
    {
     "name": "stdout",
     "output_type": "stream",
     "text": [
      "[0.15299379 0.10803477 0.55435737]\n"
     ]
    }
   ],
   "source": [
    "print(reg.coef_)"
   ]
  },
  {
   "cell_type": "code",
   "execution_count": 60,
   "id": "e6be5389",
   "metadata": {},
   "outputs": [],
   "source": [
    "##Vous pouvez enfin faire une prédiction si un nouvel élève arrive en cours d'année.\n",
    "##Par exemple, pour un garçon (0) agé de 150 mois, de taille 153"
   ]
  },
  {
   "cell_type": "code",
   "execution_count": 61,
   "id": "e56158b0",
   "metadata": {},
   "outputs": [],
   "source": [
    "poids = reg.predict(np.array([[0, 150, 153]]))"
   ]
  },
  {
   "cell_type": "code",
   "execution_count": 62,
   "id": "4c3e6ec5",
   "metadata": {},
   "outputs": [
    {
     "name": "stdout",
     "output_type": "stream",
     "text": [
      "[42.72547658]\n"
     ]
    }
   ],
   "source": [
    "print(poids)"
   ]
  },
  {
   "cell_type": "code",
   "execution_count": 63,
   "id": "cb3f46cc",
   "metadata": {},
   "outputs": [],
   "source": [
    "##Pour fixer les idées, calculons ces scores sur notre modèle de régression, en utilisant les fonctions déjà implémentées de scikit-learn :\n",
    "\n",
    "##Obtenons d'abord les prédictions du modèle :"
   ]
  },
  {
   "cell_type": "code",
   "execution_count": 64,
   "id": "3ee2c8db",
   "metadata": {},
   "outputs": [],
   "source": [
    "Y_pred = reg.predict(X)"
   ]
  },
  {
   "cell_type": "code",
   "execution_count": 65,
   "id": "a6a125da",
   "metadata": {},
   "outputs": [],
   "source": [
    "##Ce qui donne pour le modèle :  poids ~ sexe + age"
   ]
  },
  {
   "cell_type": "code",
   "execution_count": 66,
   "id": "e847dad1",
   "metadata": {},
   "outputs": [],
   "source": [
    "from sklearn.metrics import mean_squared_error, mean_absolute_error, mean_absolute_percentage_error"
   ]
  },
  {
   "cell_type": "code",
   "execution_count": 67,
   "id": "96371227",
   "metadata": {},
   "outputs": [
    {
     "data": {
      "text/plain": [
       "28.59911226330148"
      ]
     },
     "execution_count": 67,
     "metadata": {},
     "output_type": "execute_result"
    }
   ],
   "source": [
    "mean_squared_error(Y, Y_pred)"
   ]
  },
  {
   "cell_type": "code",
   "execution_count": 68,
   "id": "96d215c9",
   "metadata": {},
   "outputs": [
    {
     "data": {
      "text/plain": [
       "4.163592104513333"
      ]
     },
     "execution_count": 68,
     "metadata": {},
     "output_type": "execute_result"
    }
   ],
   "source": [
    "mean_absolute_error(Y, Y_pred)"
   ]
  },
  {
   "cell_type": "code",
   "execution_count": 69,
   "id": "640929c0",
   "metadata": {},
   "outputs": [
    {
     "data": {
      "text/plain": [
       "0.09053096861870079"
      ]
     },
     "execution_count": 69,
     "metadata": {},
     "output_type": "execute_result"
    }
   ],
   "source": [
    "mean_absolute_percentage_error(Y, Y_pred)"
   ]
  },
  {
   "cell_type": "code",
   "execution_count": null,
   "id": "09cfb8ce",
   "metadata": {},
   "outputs": [],
   "source": []
  },
  {
   "cell_type": "code",
   "execution_count": null,
   "id": "ec5cdd03",
   "metadata": {},
   "outputs": [],
   "source": []
  },
  {
   "cell_type": "code",
   "execution_count": null,
   "id": "e7b6a629",
   "metadata": {},
   "outputs": [],
   "source": []
  }
 ],
 "metadata": {
  "kernelspec": {
   "display_name": "Python 3",
   "language": "python",
   "name": "python3"
  },
  "language_info": {
   "codemirror_mode": {
    "name": "ipython",
    "version": 3
   },
   "file_extension": ".py",
   "mimetype": "text/x-python",
   "name": "python",
   "nbconvert_exporter": "python",
   "pygments_lexer": "ipython3",
   "version": "3.8.8"
  }
 },
 "nbformat": 4,
 "nbformat_minor": 5
}
