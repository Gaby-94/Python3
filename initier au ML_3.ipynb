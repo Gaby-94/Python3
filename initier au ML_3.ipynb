{
 "cells": [
  {
   "cell_type": "code",
   "execution_count": 1,
   "id": "3b0b4254",
   "metadata": {},
   "outputs": [],
   "source": [
    "from sklearn.datasets import load_breast_cancer\n",
    "##X, y = load_breast_cancer(return_X_y=True)\n",
    "\n",
    "#from sklearn.linear_model import LogisticRegression\n",
    "#clf = LogisticRegression(random_state=808).fit(X, y)"
   ]
  },
  {
   "cell_type": "code",
   "execution_count": 2,
   "id": "3793f6af",
   "metadata": {},
   "outputs": [],
   "source": [
    "X, y = load_breast_cancer(return_X_y=True)"
   ]
  },
  {
   "cell_type": "code",
   "execution_count": 3,
   "id": "84e5c566",
   "metadata": {},
   "outputs": [],
   "source": [
    "from sklearn.linear_model import LogisticRegression"
   ]
  },
  {
   "cell_type": "code",
   "execution_count": 4,
   "id": "4826e84d",
   "metadata": {},
   "outputs": [
    {
     "name": "stderr",
     "output_type": "stream",
     "text": [
      "/home/gabriel/anaconda3/lib/python3.8/site-packages/sklearn/linear_model/_logistic.py:763: ConvergenceWarning: lbfgs failed to converge (status=1):\n",
      "STOP: TOTAL NO. of ITERATIONS REACHED LIMIT.\n",
      "\n",
      "Increase the number of iterations (max_iter) or scale the data as shown in:\n",
      "    https://scikit-learn.org/stable/modules/preprocessing.html\n",
      "Please also refer to the documentation for alternative solver options:\n",
      "    https://scikit-learn.org/stable/modules/linear_model.html#logistic-regression\n",
      "  n_iter_i = _check_optimize_result(\n"
     ]
    }
   ],
   "source": [
    "clf = LogisticRegression(random_state=808).fit(X, y)"
   ]
  },
  {
   "cell_type": "code",
   "execution_count": 5,
   "id": "274c1756",
   "metadata": {},
   "outputs": [],
   "source": [
    "##Regardons 2 échantillons en particulier et leur prédiction :"
   ]
  },
  {
   "cell_type": "code",
   "execution_count": 6,
   "id": "a481e11b",
   "metadata": {},
   "outputs": [
    {
     "data": {
      "text/plain": [
       "array([0])"
      ]
     },
     "execution_count": 6,
     "metadata": {},
     "output_type": "execute_result"
    }
   ],
   "source": [
    "clf.predict([X[8, :]])"
   ]
  },
  {
   "cell_type": "code",
   "execution_count": 7,
   "id": "b63933fb",
   "metadata": {},
   "outputs": [],
   "source": [
    "#On obtient 0 : bénigne"
   ]
  },
  {
   "cell_type": "code",
   "execution_count": 8,
   "id": "8f6aa828",
   "metadata": {},
   "outputs": [],
   "source": [
    "#Un autre :"
   ]
  },
  {
   "cell_type": "code",
   "execution_count": 10,
   "id": "0c1434ba",
   "metadata": {},
   "outputs": [
    {
     "data": {
      "text/plain": [
       "array([1])"
      ]
     },
     "execution_count": 10,
     "metadata": {},
     "output_type": "execute_result"
    }
   ],
   "source": [
    "clf.predict([X[13, :]])\n",
    "#On obtient 1 : maligne."
   ]
  },
  {
   "cell_type": "code",
   "execution_count": 11,
   "id": "60f5e185",
   "metadata": {},
   "outputs": [],
   "source": [
    "#On peut aussi obtenir la probabilité de prédiction de chaque échantillon avec la fonction  predict_proba() \n",
    "#qui donne la paire de probabilité pour 0 et 1.\n",
    "\n",
    "#Note dans le cas binaire : p(0) + p(1) = 1"
   ]
  },
  {
   "cell_type": "code",
   "execution_count": 12,
   "id": "17411708",
   "metadata": {},
   "outputs": [
    {
     "data": {
      "text/plain": [
       "array([[0.69366964, 0.30633036]])"
      ]
     },
     "execution_count": 12,
     "metadata": {},
     "output_type": "execute_result"
    }
   ],
   "source": [
    "clf.predict_proba([X[8, :]])"
   ]
  },
  {
   "cell_type": "code",
   "execution_count": 13,
   "id": "75707904",
   "metadata": {},
   "outputs": [],
   "source": [
    "#Soit 69,7 % d'appartenir à la classe 0 et 30,3 % d'appartenir à la classe 1."
   ]
  },
  {
   "cell_type": "code",
   "execution_count": 14,
   "id": "5f1304d4",
   "metadata": {},
   "outputs": [
    {
     "data": {
      "text/plain": [
       "array([[0.12276132, 0.87723868]])"
      ]
     },
     "execution_count": 14,
     "metadata": {},
     "output_type": "execute_result"
    }
   ],
   "source": [
    "clf.predict_proba([X[13, :]])\n",
    "##array([[0.1193025, 0.8806975]])"
   ]
  },
  {
   "cell_type": "code",
   "execution_count": 15,
   "id": "24fc7357",
   "metadata": {},
   "outputs": [],
   "source": [
    "#Soit 12% d'appartenir à la classe 0 et 88 % d'appartenir à la classe 1."
   ]
  },
  {
   "cell_type": "code",
   "execution_count": 16,
   "id": "e2936d7e",
   "metadata": {},
   "outputs": [],
   "source": [
    "##Le modèle semble moins fiable au niveau de sa classification pour l'échantillon 8 que pour l'échantillon 13."
   ]
  },
  {
   "cell_type": "code",
   "execution_count": 17,
   "id": "9e008142",
   "metadata": {},
   "outputs": [],
   "source": [
    "##Un bon moyen d'analyser les performances d'un modèle de classification consiste à tracer l'histogramme \n",
    "##des probabilités des prédictions."
   ]
  },
  {
   "cell_type": "code",
   "execution_count": 18,
   "id": "0c35cb1f",
   "metadata": {},
   "outputs": [
    {
     "data": {
      "text/plain": [
       "<AxesSubplot:ylabel='Count'>"
      ]
     },
     "execution_count": 18,
     "metadata": {},
     "output_type": "execute_result"
    },
    {
     "data": {
      "image/png": "[encoded data removed]",
      "text/plain": [
       "<Figure size 432x288 with 1 Axes>"
      ]
     },
     "metadata": {
      "needs_background": "light"
     },
     "output_type": "display_data"
    }
   ],
   "source": [
    "y_hat_proba = clf.predict_proba(X)[:,1]\n",
    "import seaborn as sns\n",
    "sns.histplot(y_hat_proba)"
   ]
  },
  {
   "cell_type": "code",
   "execution_count": 19,
   "id": "8aa92040",
   "metadata": {},
   "outputs": [],
   "source": [
    "#Le modèle est assez fiable au niveau de ses prédictions, la plupart des prédictions ont une probabilité proche de 0\n",
    "#ou de 1.\n",
    "\n",
    "#Pour un mauvais modèle nous aurions par exemple des prédictions moins clairement espacées. Par exemple, ici, \n",
    "#la majorité des prédictions ont une probabilité entre 0,55 et 0,65. Le modèle est moins fiable."
   ]
  },
  {
   "cell_type": "code",
   "execution_count": 20,
   "id": "a183f741",
   "metadata": {},
   "outputs": [],
   "source": [
    "##Évaluez la performance d'un modèle de classification"
   ]
  },
  {
   "cell_type": "code",
   "execution_count": 21,
   "id": "66cd4abf",
   "metadata": {},
   "outputs": [],
   "source": [
    "#Le plus simple pour mesurer la performance d'une classification est de regarder le nombre d'échantillons qui ont été correctement classés. C'est l'exactitude (accuracy, en anglais).\n",
    "\n",
    "##exactitude = échantillons bien classés / échantillons au total"
   ]
  },
  {
   "cell_type": "code",
   "execution_count": 22,
   "id": "74fbc68c",
   "metadata": {},
   "outputs": [],
   "source": [
    "##Dans scikit-learn la fonction de calcul de l'accuracy est accuracy_score."
   ]
  },
  {
   "cell_type": "code",
   "execution_count": 23,
   "id": "0b0c80da",
   "metadata": {},
   "outputs": [],
   "source": [
    "##Reprenons le modèle de régression logistique que nous venons d'entraîner, et obtenons ses prédictions :"
   ]
  },
  {
   "cell_type": "code",
   "execution_count": 24,
   "id": "264300b4",
   "metadata": {},
   "outputs": [],
   "source": [
    "y_pred = clf.predict(X)"
   ]
  },
  {
   "cell_type": "code",
   "execution_count": 25,
   "id": "4b66dfc5",
   "metadata": {},
   "outputs": [],
   "source": [
    "##Son exactitude est alors :"
   ]
  },
  {
   "cell_type": "code",
   "execution_count": 26,
   "id": "b0f415d0",
   "metadata": {},
   "outputs": [
    {
     "data": {
      "text/plain": [
       "0.9472759226713533"
      ]
     },
     "execution_count": 26,
     "metadata": {},
     "output_type": "execute_result"
    }
   ],
   "source": [
    "from sklearn.metrics import accuracy_score\n",
    "accuracy_score(y, y_pred)\n"
   ]
  },
  {
   "cell_type": "code",
   "execution_count": 27,
   "id": "a9016ee0",
   "metadata": {},
   "outputs": [],
   "source": [
    "#94,7 % ! C'est un bon score pour une simple régression logistique."
   ]
  },
  {
   "cell_type": "code",
   "execution_count": 28,
   "id": "7d24db0b",
   "metadata": {},
   "outputs": [],
   "source": [
    "##Ce modèle est-il biaisé ou objectif ? A-t-il tendance à classer plutôt les 0 en 1 ou les 1 en 0 ?"
   ]
  },
  {
   "cell_type": "code",
   "execution_count": 29,
   "id": "f1ca11c6",
   "metadata": {},
   "outputs": [],
   "source": [
    "##Pour voir cela on fait appel à la matrice de confusion, un tableau 2x2 avec en colonnes \n",
    "##le nombre de valeurs vraies et en rangées le nombre de valeurs prédites :"
   ]
  },
  {
   "cell_type": "code",
   "execution_count": 30,
   "id": "d5349681",
   "metadata": {},
   "outputs": [
    {
     "data": {
      "text/plain": [
       "array([[193,  19],\n",
       "       [ 11, 346]])"
      ]
     },
     "execution_count": 30,
     "metadata": {},
     "output_type": "execute_result"
    }
   ],
   "source": [
    "from sklearn.metrics import confusion_matrix\n",
    "confusion_matrix(y, y_pred)\n"
   ]
  },
  {
   "cell_type": "code",
   "execution_count": 32,
   "id": "a3c80df9",
   "metadata": {},
   "outputs": [],
   "source": [
    "#Comparons les résultats obtenus pour 2 autres seuils. Par exemple   t=0.3   et   t=0.7\n",
    "\n",
    "  \n",
    "\n",
    "##Pour obtenir les catégories prédites avec ces seuils, on part des probabilités prédites par le modèle "
   ]
  },
  {
   "cell_type": "code",
   "execution_count": 33,
   "id": "162308b4",
   "metadata": {},
   "outputs": [],
   "source": [
    "y_hat_proba = clf.predict_proba(X)[:,1]"
   ]
  },
  {
   "cell_type": "code",
   "execution_count": 34,
   "id": "2400e76c",
   "metadata": {},
   "outputs": [],
   "source": [
    "##On obtient les catégories relatives pour les 2 seuils :"
   ]
  },
  {
   "cell_type": "code",
   "execution_count": 35,
   "id": "5be1a0c3",
   "metadata": {},
   "outputs": [],
   "source": [
    "y_pred_03 = [ 0 if value < 0.3 else 1 for value in y_hat_proba ]\n",
    "y_pred_07 = [ 0 if value < 0.7 else 1 for value in y_hat_proba ]"
   ]
  },
  {
   "cell_type": "code",
   "execution_count": 36,
   "id": "000b7538",
   "metadata": {},
   "outputs": [],
   "source": [
    "##On a alors les matrices de confusion suivantes :\n",
    "\n",
    "   ## pour 0,3 :"
   ]
  },
  {
   "cell_type": "code",
   "execution_count": 37,
   "id": "564f64b6",
   "metadata": {},
   "outputs": [
    {
     "data": {
      "text/plain": [
       "array([[186,  26],\n",
       "       [  6, 351]])"
      ]
     },
     "execution_count": 37,
     "metadata": {},
     "output_type": "execute_result"
    }
   ],
   "source": [
    "confusion_matrix(y, y_pred_03)\n"
   ]
  },
  {
   "cell_type": "code",
   "execution_count": 38,
   "id": "7af07ac6",
   "metadata": {},
   "outputs": [],
   "source": [
    "##pour 0,7 :"
   ]
  },
  {
   "cell_type": "code",
   "execution_count": 39,
   "id": "90ab952a",
   "metadata": {},
   "outputs": [
    {
     "data": {
      "text/plain": [
       "array([[200,  12],\n",
       "       [ 18, 339]])"
      ]
     },
     "execution_count": 39,
     "metadata": {},
     "output_type": "execute_result"
    }
   ],
   "source": [
    "confusion_matrix(y, y_pred_07)\n",
    "##array([[200,  12],\n",
    " #     [ 18, 339]])"
   ]
  },
  {
   "cell_type": "code",
   "execution_count": 40,
   "id": "be43c533",
   "metadata": {},
   "outputs": [],
   "source": [
    "##Les recalls et précisions sont récapitulés dans le tableau suivant :"
   ]
  },
  {
   "cell_type": "code",
   "execution_count": 41,
   "id": "9f5f31c5",
   "metadata": {},
   "outputs": [
    {
     "data": {
      "text/plain": [
       "0.969187675070028"
      ]
     },
     "execution_count": 41,
     "metadata": {},
     "output_type": "execute_result"
    }
   ],
   "source": [
    "from sklearn.metrics import precision_score, recall_score\n",
    "precision_score(y, y_pred)\n",
    "recall_score(y, y_pred)"
   ]
  },
  {
   "cell_type": "code",
   "execution_count": 42,
   "id": "227ea89f",
   "metadata": {},
   "outputs": [],
   "source": [
    "#Pour tracer la courbe ROC :"
   ]
  },
  {
   "cell_type": "code",
   "execution_count": 43,
   "id": "97fb6799",
   "metadata": {},
   "outputs": [
    {
     "data": {
      "text/plain": [
       "[<matplotlib.lines.Line2D at 0x7fbe0a7911f0>]"
      ]
     },
     "execution_count": 43,
     "metadata": {},
     "output_type": "execute_result"
    },
    {
     "data": {
      "image/png": "[encoded data removed]",
      "text/plain": [
       "<Figure size 432x288 with 1 Axes>"
      ]
     },
     "metadata": {
      "needs_background": "light"
     },
     "output_type": "display_data"
    }
   ],
   "source": [
    "from sklearn.metrics import roc_curve\n",
    "fpr, tpr, thresholds = roc_curve(y, y_hat_proba)\n",
    "\n",
    "import matplotlib.pyplot as plt\n",
    "plt.plot(fpr, tpr)"
   ]
  },
  {
   "cell_type": "code",
   "execution_count": 44,
   "id": "4aca000c",
   "metadata": {},
   "outputs": [],
   "source": [
    "##EN RÉSUMÉ"
   ]
  },
  {
   "cell_type": "code",
   "execution_count": 45,
   "id": "67f5aa76",
   "metadata": {},
   "outputs": [],
   "source": [
    "##On peut adapter la régression linéaire pour de la classification en appliquant la fonction logistique qui\n",
    "##transforme la prédiction en une probabilité d'appartenance à une des classes.\n"
   ]
  },
  {
   "cell_type": "code",
   "execution_count": 46,
   "id": "45af63a2",
   "metadata": {},
   "outputs": [],
   "source": [
    "##Pour évaluer la performance d'une classification on regarde la matrice de confusion, et des métriques comme\n",
    "##la précision, l'accuracy, le recall. "
   ]
  },
  {
   "cell_type": "code",
   "execution_count": 47,
   "id": "0ec7160a",
   "metadata": {},
   "outputs": [],
   "source": [
    "#La courbe ROC permet de s'affranchir du seuil de classification pour mesurer la performance d'un modèle de\n",
    "#classification. "
   ]
  },
  {
   "cell_type": "code",
   "execution_count": null,
   "id": "9fccc25b",
   "metadata": {},
   "outputs": [],
   "source": []
  }
 ],
 "metadata": {
  "kernelspec": {
   "display_name": "Python 3",
   "language": "python",
   "name": "python3"
  },
  "language_info": {
   "codemirror_mode": {
    "name": "ipython",
    "version": 3
   },
   "file_extension": ".py",
   "mimetype": "text/x-python",
   "name": "python",
   "nbconvert_exporter": "python",
   "pygments_lexer": "ipython3",
   "version": "3.8.8"
  }
 },
 "nbformat": 4,
 "nbformat_minor": 5
}
