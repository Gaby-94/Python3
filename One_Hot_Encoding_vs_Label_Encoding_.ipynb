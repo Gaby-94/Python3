{
  "nbformat": 4,
  "nbformat_minor": 0,
  "metadata": {
    "colab": {
      "provenance": []
    },
    "kernelspec": {
      "name": "python3",
      "display_name": "Python 3"
    },
    "language_info": {
      "name": "python"
    }
  },
  "cells": [
    {
      "cell_type": "code",
      "execution_count": 1,
      "metadata": {
        "id": "He__M_F7kMHF"
      },
      "outputs": [],
      "source": [
        "##"
      ]
    },
    {
      "cell_type": "markdown",
      "source": [
        "What is Label Encoding?\n",
        "\n",
        "Label Encoding is a popular encoding technique for handling categorical variables."
      ],
      "metadata": {
        "id": "pVuxBSerkStr"
      }
    },
    {
      "cell_type": "markdown",
      "source": [
        "Let’s see how to implement label encoding in Python using the scikit-learn library and also understand the challenges with label encoding.\n",
        "\n",
        "First import the required libraries and dataset:"
      ],
      "metadata": {
        "id": "9kGwzUAekVET"
      }
    },
    {
      "cell_type": "code",
      "source": [
        "#importing the libraries\n",
        "import pandas as pd\n",
        "import numpy as np"
      ],
      "metadata": {
        "id": "eNYHLdLGk2HZ"
      },
      "execution_count": 2,
      "outputs": []
    },
    {
      "cell_type": "code",
      "source": [
        "#reading the dataset\n",
        "#df=pd.read_csv(\"Salary.csv\")"
      ],
      "metadata": {
        "id": "LbZT92mTk8qP"
      },
      "execution_count": 4,
      "outputs": []
    },
    {
      "cell_type": "code",
      "source": [
        "#print df.info"
      ],
      "metadata": {
        "id": "vlkayR9llv0Q"
      },
      "execution_count": null,
      "outputs": []
    },
    {
      "cell_type": "markdown",
      "source": [
        "Now, let us implement label encoding in Python:"
      ],
      "metadata": {
        "id": "g4jBgLmFojI_"
      }
    },
    {
      "cell_type": "code",
      "source": [
        "# Import label encoder\n",
        "from sklearn import preprocessing\n",
        "# label_encoder object knows how to understand word labels.\n",
        "label_encoder = preprocessing.LabelEncoder()\n",
        "# Encode labels in column 'Country'.\n",
        "data['Country']= label_encoder.fit_transform(data[‘Country'])\n",
        "print(data.head())"
      ],
      "metadata": {
        "id": "mAIYPcQRokdA"
      },
      "execution_count": null,
      "outputs": []
    },
    {
      "cell_type": "markdown",
      "source": [
        "As you can see here, label encoding uses alphabetical ordering. Hence, India has been encoded with 0, the US with 2, and Japan with 1."
      ],
      "metadata": {
        "id": "wSyQqkYqqfic"
      }
    },
    {
      "cell_type": "markdown",
      "source": [
        "# What is One Hot Encoding?"
      ],
      "metadata": {
        "id": "-UXBN7tKqlMK"
      }
    },
    {
      "cell_type": "markdown",
      "source": [
        "One-Hot Encoding is another popular technique for treating categorical variables. It simply creates additional features based on the number of unique values in the categorical feature. Every unique value in the category will be added as a feature. One-Hot Encoding is the process of creating dummy variables.\n",
        "\n",
        "In this encoding technique, each category is represented as a one-hot vector. Let’s see how to implement one-hot encoding in Python:"
      ],
      "metadata": {
        "id": "1mmBRB6fqwWg"
      }
    },
    {
      "cell_type": "code",
      "source": [
        "# importing one hot encoder\n",
        "from sklearn from sklearn.preprocessing import OneHotEncoder\n",
        "# creating one hot encoder object\n",
        "onehotencoder = OneHotEncoder()\n",
        "#reshape the 1-D country array to 2-D as fit_transform expects 2-D and finally fit the object\n",
        "X = onehotencoder.fit_transform(data.Country.values.reshape(-1,1)).toarray()\n",
        "#To add this back into the original dataframe\n",
        "dfOneHot = pd.DataFrame(X, columns = [\"Country_\"+str(int(i)) for i in range(data.shape[1])])\n",
        "df = pd.concat([data, dfOneHot], axis=1)\n",
        "#droping the country column\n",
        "df= df.drop(['Country'], axis=1)\n",
        "#printing to verify\n",
        "print(df.head())"
      ],
      "metadata": {
        "id": "6NtbzsNJrGGT"
      },
      "execution_count": null,
      "outputs": []
    },
    {
      "cell_type": "markdown",
      "source": [
        "As you can see here, 3 new features are added as the country contains 3 unique values – India, Japan, and the US. In this technique, we solved the problem of ranking as each category is represented by a binary vector."
      ],
      "metadata": {
        "id": "phHLiGfMs-At"
      }
    },
    {
      "cell_type": "markdown",
      "source": [
        "# Challenges of One-Hot Encoding: Dummy Variable Trap"
      ],
      "metadata": {
        "id": "lt6eiCLSuUz5"
      }
    },
    {
      "cell_type": "markdown",
      "source": [
        "One-Hot Encoding results in a Dummy Variable Trap as the outcome of one variable can easily be predicted with the help of the remaining variables. Dummy Variable Trap is a scenario in which variables are highly correlated to each other."
      ],
      "metadata": {
        "id": "9IO9jGAbvcPY"
      }
    },
    {
      "cell_type": "markdown",
      "source": [
        "One of the common ways to check for multicollinearity is the Variance Inflation Factor (VIF):\n",
        "\n",
        "    VIF=1, Very Less Multicollinearity\n",
        "    VIF<5, Moderate Multicollinearity\n",
        "    VIF>5, Extreme Multicollinearity (This is what we have to avoid)"
      ],
      "metadata": {
        "id": "Jju10gBjvjDn"
      }
    },
    {
      "cell_type": "markdown",
      "source": [
        "# Compute the VIF scores:"
      ],
      "metadata": {
        "id": "FCsFHNH5vpvl"
      }
    },
    {
      "cell_type": "code",
      "source": [
        "# Function to calculate VIF\n",
        "def calculate_vif(data):\n",
        "    vif_df = pd.DataFrame(columns = ['Var', 'Vif'])\n",
        "    x_var_names = data.columns\n",
        "    for i in range(0, x_var_names.shape[0]):\n",
        "        y = data[x_var_names[i]]\n",
        "        x = data[x_var_names.drop([x_var_names[i]])]\n",
        "        r_squared = sm.OLS(y,x).fit().rsquared\n",
        "        vif = round(1/(1-r_squared),2)\n",
        "        vif_df.loc[i] = [x_var_names[i], vif]\n",
        "    return vif_df.sort_values(by = 'Vif', axis = 0, ascending=False, inplace=False)\n",
        "\n",
        "X=df.drop(['Salary'],axis=1)\n",
        "calculate_vif(X)"
      ],
      "metadata": {
        "id": "HN10z1Svvu7f"
      },
      "execution_count": null,
      "outputs": []
    },
    {
      "cell_type": "markdown",
      "source": [
        "From the output, we can see that the dummy variables which are created using one-hot encoding have VIF above 5. We have a multicollinearity problem."
      ],
      "metadata": {
        "id": "eO5-XZRcwN1I"
      }
    },
    {
      "cell_type": "markdown",
      "source": [
        "Now, let us drop one of the dummy variables to solve the multicollinearity issue:"
      ],
      "metadata": {
        "id": "Fex-DAyzwPAz"
      }
    },
    {
      "cell_type": "code",
      "source": [
        "#df = df.drop(df.columns[[0]], axis=1)\n",
        "#calculate_vif(df)"
      ],
      "metadata": {
        "id": "BxaVTtA9wb70"
      },
      "execution_count": null,
      "outputs": []
    },
    {
      "cell_type": "markdown",
      "source": [
        "Wow! VIF has decreased. We solved the problem of multicollinearity. Now, the dataset is ready for building the model."
      ],
      "metadata": {
        "id": "ocXNf5lPw-4x"
      }
    },
    {
      "cell_type": "markdown",
      "source": [
        "# When to use a Label Encoding vs. One Hot Encoding"
      ],
      "metadata": {
        "id": "QCOIXqRLxAgl"
      }
    },
    {
      "cell_type": "markdown",
      "source": [
        "This question generally depends on your dataset and the model which you wish to apply. But still, a few points to note before choosing the right encoding technique for your model:\n",
        "\n",
        "We apply One-Hot Encoding when:\n",
        "\n",
        "    The categorical feature is not ordinal (like the countries above)\n",
        "    The number of categorical features is less so one-hot encoding can be effectively applied\n",
        "\n",
        "We apply Label Encoding when:\n",
        "\n",
        "    The categorical feature is ordinal (like Jr. kg, Sr. kg, Primary school, high school)\n",
        "     The number of categories is quite large as one-hot encoding can lead to high memory consumption"
      ],
      "metadata": {
        "id": "a7JiUZKFz9_w"
      }
    },
    {
      "cell_type": "markdown",
      "source": [
        "# Label Encoding vs One Hot Encoding vs Ordinal Encoding"
      ],
      "metadata": {
        "id": "Z57z4FPv0Cj1"
      }
    },
    {
      "cell_type": "markdown",
      "source": [
        "\n",
        "    Label Encoding: Label encoding assigns a unique numerical label to each category in a categorical variable. It preserves the ordinal relationship between categories if present. For example, “Red” may be encoded as 1, “Green” as 2, and “Blue” as 3.\n",
        "    One-Hot Encoding: One-hot encoding converts each category in a categorical variable into a binary vector. It creates new binary columns for each category, representing the presence or absence of the category. Each category is mutually exclusive. For example, “Red” may be encoded as [1, 0, 0], “Green” as [0, 1, 0], and “Blue” as [0, 0, 1].\n",
        "    Ordinal Encoding: Ordinal encoding is similar to label encoding but considers the order or rank of categories. It assigns unique numerical labels to each category, preserving the ordinal relationship between categories. For example, “Cold” may be encoded as 1, “Warm” as 2, and “Hot” as 3."
      ],
      "metadata": {
        "id": "jZS5F6JT0IKE"
      }
    }
  ]
}