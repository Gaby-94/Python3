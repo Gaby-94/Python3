{
  "cells": [
    {
      "cell_type": "markdown",
      "metadata": {
        "id": "N0TmOdASkpF_"
      },
      "source": [
        "# TUTORIAL 5"
      ]
    },
    {
      "cell_type": "code",
      "execution_count": 2,
      "metadata": {
        "id": "ECjVU3OLkpGC"
      },
      "outputs": [],
      "source": [
        "from numpy import *\n",
        "import numpy as np\n",
        "import matplotlib.pyplot as plt"
      ]
    },
    {
      "cell_type": "markdown",
      "metadata": {
        "id": "73yxqsigkpGD"
      },
      "source": [
        "### The goal of this tutorial is to see Monte Carlo integration in action.\n",
        "### For simplicity we stick to one dimension, although Monte Carlo integration becomes only powerful for higher dimensions."
      ]
    },
    {
      "cell_type": "markdown",
      "metadata": {
        "id": "JCntd6dmkpGE"
      },
      "source": [
        "### Recall that if we generate a large number $(n)$ of uniformly distributed random points $x_{1}, x_{2}, \\cdots, x_{n}$ in $[a,b]$  , $$\n",
        "(b-a) \\frac{1}{n}\\sum_{i=1}^{n} f(x_{i}) \\quad \\mbox{is a good approximation for } \\quad \\int_{a}^{b} f(x) dx\n",
        "$$\n"
      ]
    },
    {
      "cell_type": "markdown",
      "metadata": {
        "id": "cgTw4tLhkpGE"
      },
      "source": [
        "### Recall that the variance is $$\n",
        "\\sigma^{2}_{f} = \\frac{1}{b-a} \\int_{a}^{b}\\left(f(x) - \\frac{1}{b-a} \\int_{a}^{b}f(x)dx \\right)^2 dx\n",
        "$$\n"
      ]
    },
    {
      "cell_type": "markdown",
      "metadata": {
        "id": "-s3lfN7gkpGE"
      },
      "source": [
        "### If in addition the variance is finite, the CLT shows that the error of the Monte Carlo approximation behaves like$$\n",
        "(b-a)\\frac{\\sigma_f}{\\sqrt{n}}.\n",
        "$$ \n",
        "\n",
        "### If the variance is infinite, the convergence can be much slower."
      ]
    },
    {
      "cell_type": "markdown",
      "metadata": {
        "id": "_HGHbWdEkpGF"
      },
      "source": [
        " ## 1) Implementing a function for 1-dimensional integrals "
      ]
    },
    {
      "cell_type": "markdown",
      "metadata": {
        "id": "-5spPFNykpGF"
      },
      "source": [
        "#### We will write a function which approximates definite 1-dimensional integrals using Monte Carlo integration with uniform sampling.  \n",
        "#### The following function will be useful:"
      ]
    },
    {
      "cell_type": "markdown",
      "metadata": {
        "id": "Xxr1AtEHkpGG"
      },
      "source": [
        " To generate random numbers use the random module from numpy. "
      ]
    },
    {
      "cell_type": "code",
      "execution_count": 3,
      "metadata": {
        "id": "dsl-zp42kpGG"
      },
      "outputs": [],
      "source": [
        "from numpy import random"
      ]
    },
    {
      "cell_type": "markdown",
      "metadata": {
        "id": "1z1tyYHJkpGH"
      },
      "source": [
        "To generate a uniformly distributed random number on the interval [a,b] you can use $\\textit{random.uniform(a,b)}$"
      ]
    },
    {
      "cell_type": "code",
      "execution_count": 4,
      "metadata": {
        "colab": {
          "base_uri": "https://localhost:8080/"
        },
        "id": "TQvaldfbkpGH",
        "outputId": "a1b387a6-6132-47fa-eca7-a2a969e1be41"
      },
      "outputs": [
        {
          "output_type": "execute_result",
          "data": {
            "text/plain": [
              "5.078899384755566"
            ]
          },
          "metadata": {},
          "execution_count": 4
        }
      ],
      "source": [
        "random.uniform(2,8)"
      ]
    },
    {
      "cell_type": "markdown",
      "metadata": {
        "id": "kXmDRJw3kpGI"
      },
      "source": [
        "Generate a whole array of n nuiformly numbers on [a,b]"
      ]
    },
    {
      "cell_type": "code",
      "execution_count": 5,
      "metadata": {
        "colab": {
          "base_uri": "https://localhost:8080/"
        },
        "id": "zPEAvDLykpGI",
        "outputId": "30921128-3303-4c4c-9409-0c29b41469f7"
      },
      "outputs": [
        {
          "output_type": "execute_result",
          "data": {
            "text/plain": [
              "array([0.99653126, 0.58216928, 0.01078939, 0.44705227, 0.55222606,\n",
              "       0.92868733, 0.14904331, 0.85987174, 0.88067643, 0.20684432])"
            ]
          },
          "metadata": {},
          "execution_count": 5
        }
      ],
      "source": [
        "random.uniform(0,1,10)"
      ]
    },
    {
      "cell_type": "markdown",
      "metadata": {
        "id": "zOfdANpAkpGI"
      },
      "source": [
        " For simplicity, lets use a one-dimension function , $f(x) = x^3$\n"
      ]
    },
    {
      "cell_type": "code",
      "execution_count": 77,
      "metadata": {
        "colab": {
          "base_uri": "https://localhost:8080/"
        },
        "id": "ulahtFFAkpGI",
        "outputId": "c491afb7-0a96-4d94-cb18-3d9995a34a49"
      },
      "outputs": [
        {
          "output_type": "execute_result",
          "data": {
            "text/plain": [
              "8"
            ]
          },
          "metadata": {},
          "execution_count": 77
        }
      ],
      "source": [
        "f = lambda x : x**3\n",
        "f(2)"
      ]
    },
    {
      "cell_type": "markdown",
      "metadata": {
        "id": "iAJRmqy0kpGJ"
      },
      "source": [
        "Evaluating the function at every entry of a list (also possible with an array)"
      ]
    },
    {
      "cell_type": "code",
      "execution_count": 78,
      "metadata": {
        "colab": {
          "base_uri": "https://localhost:8080/"
        },
        "id": "qB2DkAkMkpGJ",
        "outputId": "e62ceb8c-288b-4e1c-b9ba-06d6262f43bb"
      },
      "outputs": [
        {
          "output_type": "execute_result",
          "data": {
            "text/plain": [
              "[-8, -1, 0, 1, 8]"
            ]
          },
          "metadata": {},
          "execution_count": 78
        }
      ],
      "source": [
        "fvalues = map(f, [-2,-1,0,1,2])\n",
        "list(fvalues)"
      ]
    },
    {
      "cell_type": "markdown",
      "metadata": {
        "id": "C7-zQh-ukpGJ"
      },
      "source": [
        "### Write a one dimensional Monte Carlo integration function"
      ]
    },
    {
      "cell_type": "markdown",
      "metadata": {
        "id": "3ZRXCSefkpGJ"
      },
      "source": [
        "Your function should have four arguments: $fun, n, a, b$.\n",
        "\n",
        "$fun$ is the integrand, $n$ the number of sample points, $a$ the lower limit, $b$ the upper limit."
      ]
    },
    {
      "cell_type": "code",
      "execution_count": 9,
      "metadata": {
        "id": "NHeEykE6kpGJ"
      },
      "outputs": [],
      "source": [
        "def MC_integral(fun, n, a, b):\n",
        "    return ((b-a)*mean(list(map(fun,random.uniform(a,b,n)))))"
      ]
    },
    {
      "cell_type": "code",
      "execution_count": 10,
      "metadata": {
        "colab": {
          "base_uri": "https://localhost:8080/"
        },
        "id": "M7g193yhkpGK",
        "outputId": "dcd3d7c0-8006-4501-e955-6e3e249fc584"
      },
      "outputs": [
        {
          "output_type": "execute_result",
          "data": {
            "text/plain": [
              "0.25367640092760696"
            ]
          },
          "metadata": {},
          "execution_count": 10
        }
      ],
      "source": [
        "MC_integral(f,1000,0,1)"
      ]
    },
    {
      "cell_type": "markdown",
      "metadata": {
        "id": "fUi2rXXkkpGK"
      },
      "source": [
        "\n",
        "## 2) Rate of convergence"
      ]
    },
    {
      "cell_type": "markdown",
      "metadata": {
        "id": "qkKvcmN8kpGK"
      },
      "source": [
        "Define the function  $g(x)= e^{-x}sin(x)$ "
      ]
    },
    {
      "cell_type": "code",
      "execution_count": 11,
      "metadata": {
        "id": "O3xKTUbZkpGK"
      },
      "outputs": [],
      "source": [
        "g = lambda x : exp(-x)*sin(x)"
      ]
    },
    {
      "cell_type": "markdown",
      "metadata": {
        "id": "UBzW10K0kpGK"
      },
      "source": [
        "Find $I := \\int_0^{2\\pi} g(x) dx$ using a numerical standard integration method"
      ]
    },
    {
      "cell_type": "code",
      "execution_count": 118,
      "metadata": {
        "colab": {
          "base_uri": "https://localhost:8080/"
        },
        "id": "taWMZuiJkpGK",
        "outputId": "6d6eb35d-179b-4bce-d3a9-8f8b9d120626"
      },
      "outputs": [
        {
          "output_type": "execute_result",
          "data": {
            "text/plain": [
              "0.4990629883366779"
            ]
          },
          "metadata": {},
          "execution_count": 118
        }
      ],
      "source": [
        "def standard_integral(fun, n, a, b):\n",
        "    xval = linspace(a, b, n) # regular points\n",
        "    funval = fun(xval) # f(x_i) for each rectangle\n",
        "    areas = funval * (b - a)/(n-1) # Area for each rectangle\n",
        "    integral_sum = sum(areas)\n",
        "    return integral_sum\n",
        "\n",
        "\n",
        "standard_integral(g, 1000, 0, 2*np.pi)"
      ]
    },
    {
      "cell_type": "code",
      "source": [
        "def sigma2(fun, n, a, b):\n",
        "  I = standard_integral(fun, n, a, b)\n",
        "  s2 = 1/(b-a) * standard_integral(lambda x : (fun(x)  - 1/(b-a)*I)**2,n,a,b)\n",
        "  return s2"
      ],
      "metadata": {
        "id": "KL80PWVZlRIl"
      },
      "execution_count": 127,
      "outputs": []
    },
    {
      "cell_type": "code",
      "source": [
        "sigma2(f, 1000, 0, 1)"
      ],
      "metadata": {
        "colab": {
          "base_uri": "https://localhost:8080/"
        },
        "id": "jMKbroJfjh9R",
        "outputId": "bd5590fc-ca78-42bf-e2f8-fb949fe8b067"
      },
      "execution_count": 128,
      "outputs": [
        {
          "output_type": "execute_result",
          "data": {
            "text/plain": [
              "0.0806703315464789"
            ]
          },
          "metadata": {},
          "execution_count": 128
        }
      ]
    },
    {
      "cell_type": "markdown",
      "metadata": {
        "id": "oerrHkejkpGL"
      },
      "source": [
        "### Compute the variance $$\n",
        "\\sigma^{2}_{g} = \\frac{1}{2\\pi} \\int_{0}^{2\\pi}\\left(g(x) - \\frac{1}{2\n",
        "\\pi} \\int_{0}^{2\\pi}g(x)dx \\right)^2 dx\n",
        "$$\n",
        " "
      ]
    },
    {
      "cell_type": "code",
      "execution_count": 129,
      "metadata": {
        "id": "LwSDdRbskpGL"
      },
      "outputs": [],
      "source": [
        "def squared_sigma(fun, n, a, b):\n",
        "    global I, sigma\n",
        "    I = standard_integral(fun, n, a, b)\n",
        "    sigma = 1/(b-a) * standard_integral(lambda x : (fun(x)  - 1/(b-a)*I)**2,n,a,b)\n",
        "    return sigma\n",
        "    "
      ]
    },
    {
      "cell_type": "code",
      "execution_count": 130,
      "metadata": {
        "colab": {
          "base_uri": "https://localhost:8080/"
        },
        "id": "P6hjENefkpGL",
        "outputId": "ac0d82fe-aa56-4953-af54-8b017a756ce4"
      },
      "outputs": [
        {
          "output_type": "execute_result",
          "data": {
            "text/plain": [
              "0.01359175224576504"
            ]
          },
          "metadata": {},
          "execution_count": 130
        }
      ],
      "source": [
        "squared_sigma(g, 1000, 0, 2*np.pi)    "
      ]
    },
    {
      "cell_type": "code",
      "source": [
        "sigma2(g, 1000, 0, 2*np.pi)"
      ],
      "metadata": {
        "colab": {
          "base_uri": "https://localhost:8080/"
        },
        "id": "XL86zozwnFyH",
        "outputId": "dc24df71-c6f7-427d-e495-1896122d90fe"
      },
      "execution_count": 131,
      "outputs": [
        {
          "output_type": "execute_result",
          "data": {
            "text/plain": [
              "0.01359175224576504"
            ]
          },
          "metadata": {},
          "execution_count": 131
        }
      ]
    },
    {
      "cell_type": "markdown",
      "metadata": {
        "id": "8gQN0fdmkpGL"
      },
      "source": [
        "###  Compute a Monte Carlo approximation for $I$ using $n$ sample points where $n \\in \\{2,4,8,...,2^{20}\\}$\n"
      ]
    },
    {
      "cell_type": "code",
      "execution_count": 15,
      "metadata": {
        "colab": {
          "base_uri": "https://localhost:8080/"
        },
        "id": "tG1h6KxwkpGL",
        "outputId": "54e8cc5b-7ac0-4c0c-f3fe-3d11fd76eaf7"
      },
      "outputs": [
        {
          "output_type": "stream",
          "name": "stdout",
          "text": [
            "[0.09075116581614194, 0.6225848166296813, 0.02746874344746834, 0.31069679604046946, 0.41936759461304685, 0.5048095892626205, 0.5213864949115555, 0.5374960926849478, 0.5037863002417247, 0.4970839383386456, 0.47103796368745937, 0.5020140924470822, 0.5009171706985787, 0.4981001907671473, 0.5022156111856156, 0.4989661716214048, 0.49384748300514353, 0.4978859138021452, 0.49881948356465744, 0.49842682807164845]\n"
          ]
        }
      ],
      "source": [
        "# Note this process may take some time\n",
        "approx = [MC_integral(g,2**n, 0, 2*np.pi) for n in range(1,21)]\n",
        "print(approx)"
      ]
    },
    {
      "cell_type": "markdown",
      "metadata": {
        "id": "cCrpXd6KkpGL"
      },
      "source": [
        "###  For each of this approximations $(A_{n})$, compute the relative error $\\frac{\\mid A_{n} - I \\mid}{\\mid I \\mid}$"
      ]
    },
    {
      "cell_type": "code",
      "execution_count": 16,
      "metadata": {
        "colab": {
          "base_uri": "https://localhost:8080/"
        },
        "id": "esta7_TzkpGL",
        "outputId": "8921cc86-0b8d-45f7-8d0b-ca98db602708"
      },
      "outputs": [
        {
          "output_type": "stream",
          "name": "stdout",
          "text": [
            "[0.8181568901380453, 0.24750749139840672, 0.9449593656724201, 0.3774397154235225, 0.15969005032660716, 0.011514780819742686, 0.04473083978693638, 0.07701052822282659, 0.00946436024195873, 0.003965531494587957, 0.05615528561359128, 0.005913289863950811, 0.0037153273338913695, 0.0019292105245862913, 0.006317084060761734, 0.00019399698542221607, 0.010450595322480376, 0.0023585690825435805, 0.0004879239248577173, 0.0012747093651438504]\n"
          ]
        }
      ],
      "source": [
        "rel_err = [(abs(approx[n] - I) / abs(I)) for n in range (len(approx))]\n",
        "print(rel_err)"
      ]
    },
    {
      "cell_type": "markdown",
      "metadata": {
        "id": "oax3e-RekpGL"
      },
      "source": [
        "### Create plot of the relative error vs. the number of iterations. Choose logarithm scale for both axis.\n"
      ]
    },
    {
      "cell_type": "code",
      "execution_count": 24,
      "metadata": {
        "colab": {
          "base_uri": "https://localhost:8080/",
          "height": 296
        },
        "id": "c1MWDJh2kpGM",
        "outputId": "f9182db8-d39e-44de-e803-79f8cf6955e0"
      },
      "outputs": [
        {
          "output_type": "display_data",
          "data": {
            "text/plain": [
              "<Figure size 432x288 with 1 Axes>"
            ],
            "image/png": "[encoded data removed]"
          },
          "metadata": {
            "needs_background": "light"
          }
        }
      ],
      "source": [
        "samp_size = [2**n for n in range(1,21)]\n",
        "# equation of best fit line\n",
        "b, a = polyfit(log(samp_size), log(rel_err),1)\n",
        "plt.plot(log(samp_size), log(rel_err),\"bo\")\n",
        "plt.plot(log(samp_size), b*log(samp_size) + a, 'r')\n",
        "plt.xlabel(\"number of iterations\", fontsize=20) \n",
        "plt.ylabel(\"relative error\", fontsize=20)\n",
        "plt.tick_params(labelsize=18)\n",
        "plt.show()"
      ]
    },
    {
      "cell_type": "markdown",
      "metadata": {
        "id": "LQk5UicgkpGM"
      },
      "source": [
        "### Plot the function  $ n \\mapsto 2\\pi \\frac{\\sqrt{\\sigma^{2}_{f}}}{\\sqrt{n}}$. Choose logarithm scale for both axis."
      ]
    },
    {
      "cell_type": "code",
      "execution_count": 39,
      "metadata": {
        "colab": {
          "base_uri": "https://localhost:8080/",
          "height": 296
        },
        "id": "Bfc1TDnJkpGM",
        "outputId": "3b1202be-8616-4a18-e9ed-a1284d6fa32f"
      },
      "outputs": [
        {
          "output_type": "display_data",
          "data": {
            "text/plain": [
              "<Figure size 432x288 with 1 Axes>"
            ],
            "image/png": "[encoded data removed]"
          },
          "metadata": {
            "needs_background": "light"
          }
        }
      ],
      "source": [
        "conv= [2*pi*sqrt(sigma)/ sqrt(n) for n in samp_size]\n",
        "plt.plot(log(samp_size), conv,\"or\")\n",
        "plt.xlabel(\"log - number of iterations(n)\", fontsize=20) \n",
        "plt.ylabel(r\"$2\\pi \\frac{\\sqrt{\\sigma^{2}_{f}}}{\\sqrt{n}}$\", fontsize=20)\n",
        "plt.tick_params(labelsize=18)\n",
        "# plt.show()\n",
        "\n",
        "# equation of best fit line\n",
        "b, a = polyfit(log(samp_size), log(conv),1)\n",
        "plt.plot(log(samp_size), exp(b*log(samp_size)+a), \"b\")\n",
        "plt.show()"
      ]
    },
    {
      "cell_type": "markdown",
      "metadata": {
        "id": "dbv9vsiGkpGM"
      },
      "source": [
        "###  TRY : Repeat the steps of 2) for the following (improper) intergals  $$\n",
        "I_{k} = \\int_{0}^{1} \\frac{1}{x^{\\frac{2k+1}{10}}} \\quad \\mbox{where k is in \\{0,1,2,3,4\\}}\n",
        "$$\n"
      ]
    },
    {
      "cell_type": "markdown",
      "source": [
        "Let $\\displaystyle g_k = x^{\\frac{2k+1}{10}}, \\; \\forall k\\in\\{0, 1, 2, 3, 4\\}$"
      ],
      "metadata": {
        "id": "Cb2s-zNU8Bm_"
      }
    },
    {
      "cell_type": "code",
      "source": [
        "k = range(0, 5)\n",
        "g0 = lambda x: (x**(2*0+1)/10)\n",
        "g1 = lambda x: (x**(2*1+1)/10)\n",
        "g2 = lambda x: (x**(2*2+1)/10)\n",
        "g3 = lambda x: (x**(2*3+1)/10)\n",
        "g4 = lambda x: (x**(2*4+1)/10)"
      ],
      "metadata": {
        "id": "KLiKZB0b8kfy"
      },
      "execution_count": 108,
      "outputs": []
    },
    {
      "cell_type": "code",
      "source": [
        "approx_g0 = [MC_integral(g0 ,2**n, 0, 1) for n in range(1,21)]\n",
        "approx_g1 = [MC_integral(g1 ,2**n, 0, 1) for n in range(1,21)]\n",
        "approx_g2 = [MC_integral(g2 ,2**n, 0, 1) for n in range(1,21)]\n",
        "approx_g3 = [MC_integral(g3 ,2**n, 0, 1) for n in range(1,21)]\n",
        "approx_g4 = [MC_integral(g4 ,2**n, 0, 1) for n in range(1,21)]\n",
        "print(approx_g0)\n",
        "print(approx_g1)\n",
        "print(approx_g2)\n",
        "print(approx_g3)\n",
        "print(approx_g4)"
      ],
      "metadata": {
        "colab": {
          "base_uri": "https://localhost:8080/"
        },
        "id": "jLEbL_8r85Gj",
        "outputId": "06a75013-9348-450e-b7dd-947fb4584fbf"
      },
      "execution_count": 82,
      "outputs": [
        {
          "output_type": "stream",
          "name": "stdout",
          "text": [
            "[0.05321886099483279, 0.04987222083727927, 0.04571392932386994, 0.053256498787681406, 0.046447899373130486, 0.046157627685430545, 0.047611004355798306, 0.04695227474763729, 0.04982222546691282, 0.049050553091142195, 0.04923301286491525, 0.04981862910103765, 0.04941716815930297, 0.04972396985869057, 0.05017416601019503, 0.04985737455811738, 0.04995131204487885, 0.050071691464261686, 0.050036170786417256, 0.04999821365458007]\n",
            "[0.0024617753003629986, 0.036211208941936766, 0.03892970106399425, 0.022077382501906762, 0.033536445161113315, 0.032739053579997, 0.02699347993926965, 0.02717060266517002, 0.02417838497656792, 0.024487375728660554, 0.025641408262055042, 0.024357139876292733, 0.024732147667934915, 0.024955157389795216, 0.02490753224009648, 0.025187523833415132, 0.025047697723758283, 0.024996631411739478, 0.024993919554355922, 0.024951750400318596]\n",
            "[0.02631072968506521, 0.023499959510542547, 0.046895963578880574, 0.01160386957083711, 0.013200482418012992, 0.014422017283048979, 0.017221719792660115, 0.019187162915339572, 0.016739122524795407, 0.01659098099650197, 0.01671022826239288, 0.016809450708396553, 0.016204468226070315, 0.017119345349513718, 0.01649273140453812, 0.016865549764140356, 0.016613230082199577, 0.016579565571107097, 0.016636208075554926, 0.016688290412602006]\n",
            "[0.00014684933859583957, 0.016365288152600875, 0.014925433719043521, 0.0059861277188425575, 0.018328234650323204, 0.013328998330664112, 0.01646110170600361, 0.014845332222586863, 0.012649707027825101, 0.013090901976743256, 0.012787876745407028, 0.012154173606020845, 0.012694550116328144, 0.012715992460805622, 0.012571688177560712, 0.012458903872122961, 0.012416147831582243, 0.012475394557489403, 0.012423944646631949, 0.01251265799805725]\n",
            "[0.017687999167428622, 0.006451989019113855, 0.001842660052466517, 0.004949631049530873, 0.0072582043154111485, 0.014002628647792684, 0.008692441124136106, 0.00848942908945446, 0.009315213076569497, 0.009172777593388201, 0.00992339080458207, 0.009838668129541631, 0.010445327728872043, 0.0104368428028855, 0.010051211051639846, 0.010019220068379214, 0.010011347161762097, 0.009978635120196078, 0.009965761447864999, 0.010008678562792158]\n"
          ]
        }
      ]
    },
    {
      "cell_type": "markdown",
      "source": [
        "For each of the approximations compute relative errors."
      ],
      "metadata": {
        "id": "gY0N_w-fA3dr"
      }
    },
    {
      "cell_type": "code",
      "source": [
        "I0 = standard_integral(g0, 1000, 0, 1)\n",
        "I1 = standard_integral(g1, 1000, 0, 1)\n",
        "I2 = standard_integral(g2, 1000, 0, 1)\n",
        "I3 = standard_integral(g3, 1000, 0, 1)\n",
        "I4 = standard_integral(g4, 1000, 0, 1)\n",
        "print(I0, I1, I2, I3, I4)"
      ],
      "metadata": {
        "colab": {
          "base_uri": "https://localhost:8080/"
        },
        "id": "HFzRIpLrBPj2",
        "outputId": "2bb072f3-cc44-4bb9-b08b-22b5c434a769"
      },
      "execution_count": 84,
      "outputs": [
        {
          "output_type": "stream",
          "name": "stdout",
          "text": [
            "0.05005005005005005 0.02505007510012515 0.016716758466833515 0.012550108500195998 0.01005012520020507\n"
          ]
        }
      ]
    },
    {
      "cell_type": "code",
      "source": [
        "# Relative error\n",
        "rel_err0 = abs(approx_g0 - I0)/I0\n",
        "rel_err1 = abs(approx_g1 - I1)/I1\n",
        "rel_err2 = abs(approx_g2 - I2)/I2\n",
        "rel_err3 = abs(approx_g3 - I0)/I3\n",
        "rel_err4 = abs(approx_g4 - I0)/I4"
      ],
      "metadata": {
        "id": "xOdhjhGcBdku"
      },
      "execution_count": 88,
      "outputs": []
    },
    {
      "cell_type": "code",
      "source": [
        "plt.plot(log(samp_size), rel_err0, \"o\", c = \"blue\")\n",
        "plt.plot(log(samp_size), rel_err1, \"o\", c = \"red\")\n",
        "plt.plot(log(samp_size), rel_err2, \"o\", c = \"green\")\n",
        "plt.plot(log(samp_size), rel_err3, \"o\", c = \"gray\")\n",
        "plt.plot(log(samp_size), rel_err4, \"o\", c = \"brown\")\n",
        "\n",
        "\n",
        "# regression fit\n",
        "rf0_slp, rf0_itcp = np.polyfit(log(samp_size), rel_err0, 1)\n",
        "rf1_slp, rf1_itcp = np.polyfit(log(samp_size), rel_err1, 1)\n",
        "rf2_slp, rf2_itcp = np.polyfit(log(samp_size), rel_err2, 1)\n",
        "rf3_slp, rf3_itcp = np.polyfit(log(samp_size), rel_err3, 1)\n",
        "rf4_slp, rf4_itcp = np.polyfit(log(samp_size), rel_err4, 1)\n",
        "\n",
        "plt.plot(log(samp_size), rf0_slp*log(samp_size) + rf0_itcp, c = \"blue\")\n",
        "plt.plot(log(samp_size), rf1_slp*log(samp_size) + rf1_itcp, c = \"red\")\n",
        "plt.plot(log(samp_size), rf2_slp*log(samp_size) + rf2_itcp, c = \"green\")\n",
        "plt.plot(log(samp_size), rf3_slp*log(samp_size) + rf3_itcp, c = \"gray\")\n",
        "plt.plot(log(samp_size), rf4_slp*log(samp_size) + rf4_itcp, c = \"brown\")\n",
        "plt.show()"
      ],
      "metadata": {
        "colab": {
          "base_uri": "https://localhost:8080/",
          "height": 268
        },
        "id": "AKmp4DH5I3A-",
        "outputId": "40c0215e-8668-446c-9a4f-c7ba33f186e3"
      },
      "execution_count": 113,
      "outputs": [
        {
          "output_type": "display_data",
          "data": {
            "text/plain": [
              "<Figure size 432x288 with 1 Axes>"
            ],
            "image/png": "[encoded data removed]"
          },
          "metadata": {
            "needs_background": "light"
          }
        }
      ]
    },
    {
      "cell_type": "markdown",
      "source": [
        "Note that there is no convergence when $k > 2$. Let do the plotting for $k \\leq 2$"
      ],
      "metadata": {
        "id": "_EupcWh_tNQY"
      }
    },
    {
      "cell_type": "code",
      "source": [
        "plt.plot(log(samp_size), rel_err0, \"o\", c = \"blue\")\n",
        "plt.plot(log(samp_size), rel_err1, \"o\", c = \"red\")\n",
        "plt.plot(log(samp_size), rel_err2, \"o\", c = \"green\")\n",
        "plt.plot(log(samp_size), rf0_slp*log(samp_size) + rf0_itcp, c = \"blue\")\n",
        "plt.plot(log(samp_size), rf1_slp*log(samp_size) + rf1_itcp, c = \"red\")\n",
        "plt.plot(log(samp_size), rf2_slp*log(samp_size) + rf2_itcp, c = \"green\")\n",
        "plt.show()"
      ],
      "metadata": {
        "colab": {
          "base_uri": "https://localhost:8080/",
          "height": 265
        },
        "id": "X2uAI8WstnJ8",
        "outputId": "3fd41ac8-f3f5-462a-a768-9e3aea41ce02"
      },
      "execution_count": 133,
      "outputs": [
        {
          "output_type": "display_data",
          "data": {
            "text/plain": [
              "<Figure size 432x288 with 1 Axes>"
            ],
            "image/png": "[encoded data removed]"
          },
          "metadata": {
            "needs_background": "light"
          }
        }
      ]
    }
  ],
  "metadata": {
    "kernelspec": {
      "display_name": "Python 3",
      "language": "python",
      "name": "python3"
    },
    "language_info": {
      "codemirror_mode": {
        "name": "ipython",
        "version": 3
      },
      "file_extension": ".py",
      "mimetype": "text/x-python",
      "name": "python",
      "nbconvert_exporter": "python",
      "pygments_lexer": "ipython3",
      "version": "3.7.3"
    },
    "colab": {
      "name": "MCLabTutorial-2022.ipynb",
      "provenance": []
    }
  },
  "nbformat": 4,
  "nbformat_minor": 0
}