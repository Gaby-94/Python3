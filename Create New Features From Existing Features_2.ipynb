{
 "cells": [
  {
   "cell_type": "code",
   "execution_count": 1,
   "id": "a78a367a",
   "metadata": {},
   "outputs": [],
   "source": [
    "import pandas as pd"
   ]
  },
  {
   "cell_type": "code",
   "execution_count": 2,
   "id": "d3109cbc",
   "metadata": {},
   "outputs": [],
   "source": [
    "##binning"
   ]
  },
  {
   "cell_type": "code",
   "execution_count": 3,
   "id": "e0a75f5b",
   "metadata": {},
   "outputs": [],
   "source": [
    "df1=pd.read_csv(\"fe_binning.csv\")"
   ]
  },
  {
   "cell_type": "code",
   "execution_count": 4,
   "id": "f9e76167",
   "metadata": {},
   "outputs": [
    {
     "data": {
      "text/html": [
       "<div>\n",
       "<style scoped>\n",
       "    .dataframe tbody tr th:only-of-type {\n",
       "        vertical-align: middle;\n",
       "    }\n",
       "\n",
       "    .dataframe tbody tr th {\n",
       "        vertical-align: top;\n",
       "    }\n",
       "\n",
       "    .dataframe thead th {\n",
       "        text-align: right;\n",
       "    }\n",
       "</style>\n",
       "<table border=\"1\" class=\"dataframe\">\n",
       "  <thead>\n",
       "    <tr style=\"text-align: right;\">\n",
       "      <th></th>\n",
       "      <th>country</th>\n",
       "      <th>happiness</th>\n",
       "    </tr>\n",
       "  </thead>\n",
       "  <tbody>\n",
       "    <tr>\n",
       "      <th>0</th>\n",
       "      <td>Afghanistan</td>\n",
       "      <td>3.982855</td>\n",
       "    </tr>\n",
       "    <tr>\n",
       "      <th>1</th>\n",
       "      <td>Albania</td>\n",
       "      <td>4.606651</td>\n",
       "    </tr>\n",
       "    <tr>\n",
       "      <th>2</th>\n",
       "      <td>Argentina</td>\n",
       "      <td>6.697131</td>\n",
       "    </tr>\n",
       "    <tr>\n",
       "      <th>3</th>\n",
       "      <td>Armenia</td>\n",
       "      <td>4.348320</td>\n",
       "    </tr>\n",
       "    <tr>\n",
       "      <th>4</th>\n",
       "      <td>Australia</td>\n",
       "      <td>7.309061</td>\n",
       "    </tr>\n",
       "  </tbody>\n",
       "</table>\n",
       "</div>"
      ],
      "text/plain": [
       "       country  happiness\n",
       "0  Afghanistan   3.982855\n",
       "1      Albania   4.606651\n",
       "2    Argentina   6.697131\n",
       "3      Armenia   4.348320\n",
       "4    Australia   7.309061"
      ]
     },
     "execution_count": 4,
     "metadata": {},
     "output_type": "execute_result"
    }
   ],
   "source": [
    "df1.head()"
   ]
  },
  {
   "cell_type": "code",
   "execution_count": 5,
   "id": "c32ee88f",
   "metadata": {},
   "outputs": [
    {
     "data": {
      "text/html": [
       "<div>\n",
       "<style scoped>\n",
       "    .dataframe tbody tr th:only-of-type {\n",
       "        vertical-align: middle;\n",
       "    }\n",
       "\n",
       "    .dataframe tbody tr th {\n",
       "        vertical-align: top;\n",
       "    }\n",
       "\n",
       "    .dataframe thead th {\n",
       "        text-align: right;\n",
       "    }\n",
       "</style>\n",
       "<table border=\"1\" class=\"dataframe\">\n",
       "  <thead>\n",
       "    <tr style=\"text-align: right;\">\n",
       "      <th></th>\n",
       "      <th>happiness</th>\n",
       "    </tr>\n",
       "  </thead>\n",
       "  <tbody>\n",
       "    <tr>\n",
       "      <th>count</th>\n",
       "      <td>143.000000</td>\n",
       "    </tr>\n",
       "    <tr>\n",
       "      <th>mean</th>\n",
       "      <td>5.404037</td>\n",
       "    </tr>\n",
       "    <tr>\n",
       "      <th>std</th>\n",
       "      <td>1.116106</td>\n",
       "    </tr>\n",
       "    <tr>\n",
       "      <th>min</th>\n",
       "      <td>2.701591</td>\n",
       "    </tr>\n",
       "    <tr>\n",
       "      <th>25%</th>\n",
       "      <td>4.614304</td>\n",
       "    </tr>\n",
       "    <tr>\n",
       "      <th>50%</th>\n",
       "      <td>5.344383</td>\n",
       "    </tr>\n",
       "    <tr>\n",
       "      <th>75%</th>\n",
       "      <td>6.279204</td>\n",
       "    </tr>\n",
       "    <tr>\n",
       "      <th>max</th>\n",
       "      <td>7.603434</td>\n",
       "    </tr>\n",
       "  </tbody>\n",
       "</table>\n",
       "</div>"
      ],
      "text/plain": [
       "        happiness\n",
       "count  143.000000\n",
       "mean     5.404037\n",
       "std      1.116106\n",
       "min      2.701591\n",
       "25%      4.614304\n",
       "50%      5.344383\n",
       "75%      6.279204\n",
       "max      7.603434"
      ]
     },
     "execution_count": 5,
     "metadata": {},
     "output_type": "execute_result"
    }
   ],
   "source": [
    "df1.describe()"
   ]
  },
  {
   "cell_type": "code",
   "execution_count": 6,
   "id": "451f4620",
   "metadata": {},
   "outputs": [],
   "source": [
    "binned=pd.cut(df1[\"happiness\"],bins=[0,4.5,6,10], labels=[\"L\",\"M\",\"H\"])"
   ]
  },
  {
   "cell_type": "code",
   "execution_count": 7,
   "id": "135d32fb",
   "metadata": {},
   "outputs": [
    {
     "data": {
      "text/html": [
       "<div>\n",
       "<style scoped>\n",
       "    .dataframe tbody tr th:only-of-type {\n",
       "        vertical-align: middle;\n",
       "    }\n",
       "\n",
       "    .dataframe tbody tr th {\n",
       "        vertical-align: top;\n",
       "    }\n",
       "\n",
       "    .dataframe thead th {\n",
       "        text-align: right;\n",
       "    }\n",
       "</style>\n",
       "<table border=\"1\" class=\"dataframe\">\n",
       "  <thead>\n",
       "    <tr style=\"text-align: right;\">\n",
       "      <th></th>\n",
       "      <th>country</th>\n",
       "      <th>happiness</th>\n",
       "      <th>happiness_band</th>\n",
       "    </tr>\n",
       "  </thead>\n",
       "  <tbody>\n",
       "    <tr>\n",
       "      <th>0</th>\n",
       "      <td>Afghanistan</td>\n",
       "      <td>3.982855</td>\n",
       "      <td>L</td>\n",
       "    </tr>\n",
       "    <tr>\n",
       "      <th>1</th>\n",
       "      <td>Albania</td>\n",
       "      <td>4.606651</td>\n",
       "      <td>M</td>\n",
       "    </tr>\n",
       "    <tr>\n",
       "      <th>2</th>\n",
       "      <td>Argentina</td>\n",
       "      <td>6.697131</td>\n",
       "      <td>H</td>\n",
       "    </tr>\n",
       "    <tr>\n",
       "      <th>3</th>\n",
       "      <td>Armenia</td>\n",
       "      <td>4.348320</td>\n",
       "      <td>L</td>\n",
       "    </tr>\n",
       "    <tr>\n",
       "      <th>4</th>\n",
       "      <td>Australia</td>\n",
       "      <td>7.309061</td>\n",
       "      <td>H</td>\n",
       "    </tr>\n",
       "  </tbody>\n",
       "</table>\n",
       "</div>"
      ],
      "text/plain": [
       "       country  happiness happiness_band\n",
       "0  Afghanistan   3.982855              L\n",
       "1      Albania   4.606651              M\n",
       "2    Argentina   6.697131              H\n",
       "3      Armenia   4.348320              L\n",
       "4    Australia   7.309061              H"
      ]
     },
     "execution_count": 7,
     "metadata": {},
     "output_type": "execute_result"
    }
   ],
   "source": [
    "df1[\"happiness_band\"]= binned\n",
    "df1.head()"
   ]
  },
  {
   "cell_type": "code",
   "execution_count": 8,
   "id": "c166fd95",
   "metadata": {},
   "outputs": [
    {
     "data": {
      "text/plain": [
       "M    68\n",
       "H    44\n",
       "L    31\n",
       "Name: happiness_band, dtype: int64"
      ]
     },
     "execution_count": 8,
     "metadata": {},
     "output_type": "execute_result"
    }
   ],
   "source": [
    "df1[\"happiness_band\"].value_counts()"
   ]
  },
  {
   "cell_type": "code",
   "execution_count": 9,
   "id": "facbd4fe",
   "metadata": {},
   "outputs": [],
   "source": [
    "##categorial binning"
   ]
  },
  {
   "cell_type": "code",
   "execution_count": 10,
   "id": "bad309a3",
   "metadata": {},
   "outputs": [],
   "source": [
    "mapping=pd.read_csv(\"country_region.csv\")"
   ]
  },
  {
   "cell_type": "code",
   "execution_count": 11,
   "id": "7badb482",
   "metadata": {},
   "outputs": [
    {
     "data": {
      "text/html": [
       "<div>\n",
       "<style scoped>\n",
       "    .dataframe tbody tr th:only-of-type {\n",
       "        vertical-align: middle;\n",
       "    }\n",
       "\n",
       "    .dataframe tbody tr th {\n",
       "        vertical-align: top;\n",
       "    }\n",
       "\n",
       "    .dataframe thead th {\n",
       "        text-align: right;\n",
       "    }\n",
       "</style>\n",
       "<table border=\"1\" class=\"dataframe\">\n",
       "  <thead>\n",
       "    <tr style=\"text-align: right;\">\n",
       "      <th></th>\n",
       "      <th>country</th>\n",
       "      <th>region</th>\n",
       "    </tr>\n",
       "  </thead>\n",
       "  <tbody>\n",
       "    <tr>\n",
       "      <th>0</th>\n",
       "      <td>Afghanistan</td>\n",
       "      <td>South Asia</td>\n",
       "    </tr>\n",
       "    <tr>\n",
       "      <th>1</th>\n",
       "      <td>Albania</td>\n",
       "      <td>Europe &amp; Central Asia</td>\n",
       "    </tr>\n",
       "    <tr>\n",
       "      <th>2</th>\n",
       "      <td>Algeria</td>\n",
       "      <td>Middle East &amp; North Africa</td>\n",
       "    </tr>\n",
       "    <tr>\n",
       "      <th>3</th>\n",
       "      <td>American Samoa</td>\n",
       "      <td>East Asia &amp; Pacific</td>\n",
       "    </tr>\n",
       "    <tr>\n",
       "      <th>4</th>\n",
       "      <td>Andorra</td>\n",
       "      <td>Europe &amp; Central Asia</td>\n",
       "    </tr>\n",
       "  </tbody>\n",
       "</table>\n",
       "</div>"
      ],
      "text/plain": [
       "          country                      region\n",
       "0     Afghanistan                  South Asia\n",
       "1         Albania       Europe & Central Asia\n",
       "2         Algeria  Middle East & North Africa\n",
       "3  American Samoa         East Asia & Pacific\n",
       "4         Andorra       Europe & Central Asia"
      ]
     },
     "execution_count": 11,
     "metadata": {},
     "output_type": "execute_result"
    }
   ],
   "source": [
    "mapping.head()"
   ]
  },
  {
   "cell_type": "code",
   "execution_count": 12,
   "id": "aa7b9fb5",
   "metadata": {},
   "outputs": [
    {
     "data": {
      "text/html": [
       "<div>\n",
       "<style scoped>\n",
       "    .dataframe tbody tr th:only-of-type {\n",
       "        vertical-align: middle;\n",
       "    }\n",
       "\n",
       "    .dataframe tbody tr th {\n",
       "        vertical-align: top;\n",
       "    }\n",
       "\n",
       "    .dataframe thead th {\n",
       "        text-align: right;\n",
       "    }\n",
       "</style>\n",
       "<table border=\"1\" class=\"dataframe\">\n",
       "  <thead>\n",
       "    <tr style=\"text-align: right;\">\n",
       "      <th></th>\n",
       "      <th>country</th>\n",
       "      <th>happiness</th>\n",
       "      <th>happiness_band</th>\n",
       "    </tr>\n",
       "  </thead>\n",
       "  <tbody>\n",
       "    <tr>\n",
       "      <th>0</th>\n",
       "      <td>Afghanistan</td>\n",
       "      <td>3.982855</td>\n",
       "      <td>L</td>\n",
       "    </tr>\n",
       "    <tr>\n",
       "      <th>1</th>\n",
       "      <td>Albania</td>\n",
       "      <td>4.606651</td>\n",
       "      <td>M</td>\n",
       "    </tr>\n",
       "    <tr>\n",
       "      <th>2</th>\n",
       "      <td>Argentina</td>\n",
       "      <td>6.697131</td>\n",
       "      <td>H</td>\n",
       "    </tr>\n",
       "    <tr>\n",
       "      <th>3</th>\n",
       "      <td>Armenia</td>\n",
       "      <td>4.348320</td>\n",
       "      <td>L</td>\n",
       "    </tr>\n",
       "    <tr>\n",
       "      <th>4</th>\n",
       "      <td>Australia</td>\n",
       "      <td>7.309061</td>\n",
       "      <td>H</td>\n",
       "    </tr>\n",
       "  </tbody>\n",
       "</table>\n",
       "</div>"
      ],
      "text/plain": [
       "       country  happiness happiness_band\n",
       "0  Afghanistan   3.982855              L\n",
       "1      Albania   4.606651              M\n",
       "2    Argentina   6.697131              H\n",
       "3      Armenia   4.348320              L\n",
       "4    Australia   7.309061              H"
      ]
     },
     "execution_count": 12,
     "metadata": {},
     "output_type": "execute_result"
    }
   ],
   "source": [
    "df1.head()"
   ]
  },
  {
   "cell_type": "code",
   "execution_count": 13,
   "id": "5a7f24df",
   "metadata": {},
   "outputs": [
    {
     "data": {
      "text/html": [
       "<div>\n",
       "<style scoped>\n",
       "    .dataframe tbody tr th:only-of-type {\n",
       "        vertical-align: middle;\n",
       "    }\n",
       "\n",
       "    .dataframe tbody tr th {\n",
       "        vertical-align: top;\n",
       "    }\n",
       "\n",
       "    .dataframe thead th {\n",
       "        text-align: right;\n",
       "    }\n",
       "</style>\n",
       "<table border=\"1\" class=\"dataframe\">\n",
       "  <thead>\n",
       "    <tr style=\"text-align: right;\">\n",
       "      <th></th>\n",
       "      <th>country</th>\n",
       "      <th>happiness</th>\n",
       "      <th>happiness_band</th>\n",
       "      <th>region</th>\n",
       "    </tr>\n",
       "  </thead>\n",
       "  <tbody>\n",
       "    <tr>\n",
       "      <th>0</th>\n",
       "      <td>Afghanistan</td>\n",
       "      <td>3.982855</td>\n",
       "      <td>L</td>\n",
       "      <td>South Asia</td>\n",
       "    </tr>\n",
       "    <tr>\n",
       "      <th>1</th>\n",
       "      <td>Albania</td>\n",
       "      <td>4.606651</td>\n",
       "      <td>M</td>\n",
       "      <td>Europe &amp; Central Asia</td>\n",
       "    </tr>\n",
       "    <tr>\n",
       "      <th>2</th>\n",
       "      <td>Argentina</td>\n",
       "      <td>6.697131</td>\n",
       "      <td>H</td>\n",
       "      <td>Latin America &amp; Caribbean</td>\n",
       "    </tr>\n",
       "    <tr>\n",
       "      <th>3</th>\n",
       "      <td>Armenia</td>\n",
       "      <td>4.348320</td>\n",
       "      <td>L</td>\n",
       "      <td>Europe &amp; Central Asia</td>\n",
       "    </tr>\n",
       "    <tr>\n",
       "      <th>4</th>\n",
       "      <td>Australia</td>\n",
       "      <td>7.309061</td>\n",
       "      <td>H</td>\n",
       "      <td>East Asia &amp; Pacific</td>\n",
       "    </tr>\n",
       "  </tbody>\n",
       "</table>\n",
       "</div>"
      ],
      "text/plain": [
       "       country  happiness happiness_band                     region\n",
       "0  Afghanistan   3.982855              L                 South Asia\n",
       "1      Albania   4.606651              M      Europe & Central Asia\n",
       "2    Argentina   6.697131              H  Latin America & Caribbean\n",
       "3      Armenia   4.348320              L      Europe & Central Asia\n",
       "4    Australia   7.309061              H        East Asia & Pacific"
      ]
     },
     "execution_count": 13,
     "metadata": {},
     "output_type": "execute_result"
    }
   ],
   "source": [
    "##ou bien df1 = pd.merge(df1, mapping, left_on='country', right_on='country', how=\"left\")\n",
    "df1=pd.merge(df1,mapping, on=['country','country'],how=\"left\")\n",
    "df1.head()"
   ]
  },
  {
   "cell_type": "code",
   "execution_count": 14,
   "id": "a3e9956b",
   "metadata": {},
   "outputs": [
    {
     "data": {
      "text/plain": [
       "country           0.0\n",
       "happiness         0.0\n",
       "happiness_band    0.0\n",
       "region            0.0\n",
       "dtype: float64"
      ]
     },
     "execution_count": 14,
     "metadata": {},
     "output_type": "execute_result"
    }
   ],
   "source": [
    "df1.isnull().mean()"
   ]
  },
  {
   "cell_type": "code",
   "execution_count": 15,
   "id": "653d7bc0",
   "metadata": {},
   "outputs": [],
   "source": [
    "##Splitting"
   ]
  },
  {
   "cell_type": "markdown",
   "id": "3b3459e3",
   "metadata": {},
   "source": [
    "### Date/Time Decomposition With Python"
   ]
  },
  {
   "cell_type": "code",
   "execution_count": 16,
   "id": "51145124",
   "metadata": {},
   "outputs": [
    {
     "data": {
      "text/html": [
       "<div>\n",
       "<style scoped>\n",
       "    .dataframe tbody tr th:only-of-type {\n",
       "        vertical-align: middle;\n",
       "    }\n",
       "\n",
       "    .dataframe tbody tr th {\n",
       "        vertical-align: top;\n",
       "    }\n",
       "\n",
       "    .dataframe thead th {\n",
       "        text-align: right;\n",
       "    }\n",
       "</style>\n",
       "<table border=\"1\" class=\"dataframe\">\n",
       "  <thead>\n",
       "    <tr style=\"text-align: right;\">\n",
       "      <th></th>\n",
       "      <th>borough</th>\n",
       "      <th>property_type</th>\n",
       "      <th>timestamp_of_call</th>\n",
       "    </tr>\n",
       "  </thead>\n",
       "  <tbody>\n",
       "    <tr>\n",
       "      <th>0</th>\n",
       "      <td>Kensington And chelsea</td>\n",
       "      <td>Purpose Built Flats/Maisonettes - 4 to 9 storeys</td>\n",
       "      <td>01/01/2017 16:48</td>\n",
       "    </tr>\n",
       "    <tr>\n",
       "      <th>1</th>\n",
       "      <td>Camden</td>\n",
       "      <td>Purpose Built Flats/Maisonettes - 4 to 9 storeys</td>\n",
       "      <td>01/01/2017 22:20</td>\n",
       "    </tr>\n",
       "    <tr>\n",
       "      <th>2</th>\n",
       "      <td>Southwark</td>\n",
       "      <td>Purpose Built Flats/Maisonettes - 4 to 9 storeys</td>\n",
       "      <td>01/01/2017 09:51</td>\n",
       "    </tr>\n",
       "    <tr>\n",
       "      <th>3</th>\n",
       "      <td>Westminster</td>\n",
       "      <td>Purpose Built Flats/Maisonettes - 4 to 9 storeys</td>\n",
       "      <td>01/01/2017 00:28</td>\n",
       "    </tr>\n",
       "    <tr>\n",
       "      <th>4</th>\n",
       "      <td>Barking And dagenham</td>\n",
       "      <td>House - single occupancy</td>\n",
       "      <td>01/01/2017 13:33</td>\n",
       "    </tr>\n",
       "  </tbody>\n",
       "</table>\n",
       "</div>"
      ],
      "text/plain": [
       "                  borough                                     property_type  \\\n",
       "0  Kensington And chelsea  Purpose Built Flats/Maisonettes - 4 to 9 storeys   \n",
       "1                  Camden  Purpose Built Flats/Maisonettes - 4 to 9 storeys   \n",
       "2               Southwark  Purpose Built Flats/Maisonettes - 4 to 9 storeys   \n",
       "3             Westminster  Purpose Built Flats/Maisonettes - 4 to 9 storeys   \n",
       "4    Barking And dagenham                          House - single occupancy   \n",
       "\n",
       "  timestamp_of_call  \n",
       "0  01/01/2017 16:48  \n",
       "1  01/01/2017 22:20  \n",
       "2  01/01/2017 09:51  \n",
       "3  01/01/2017 00:28  \n",
       "4  01/01/2017 13:33  "
      ]
     },
     "execution_count": 16,
     "metadata": {},
     "output_type": "execute_result"
    }
   ],
   "source": [
    "df2 = pd.read_csv(\"fe_splitting.csv\")\n",
    "df2.head()"
   ]
  },
  {
   "cell_type": "code",
   "execution_count": 17,
   "id": "44cd7031",
   "metadata": {},
   "outputs": [],
   "source": [
    "##Use the  to_datetime()  function to convert the object to a date/time type"
   ]
  },
  {
   "cell_type": "code",
   "execution_count": 18,
   "id": "3e7120d2",
   "metadata": {},
   "outputs": [],
   "source": [
    "df2[\"timestamp_of_call\"] = pd.to_datetime(df2[\"timestamp_of_call\"])"
   ]
  },
  {
   "cell_type": "code",
   "execution_count": 19,
   "id": "1b0b2578",
   "metadata": {},
   "outputs": [
    {
     "data": {
      "text/plain": [
       "borough                      object\n",
       "property_type                object\n",
       "timestamp_of_call    datetime64[ns]\n",
       "dtype: object"
      ]
     },
     "execution_count": 19,
     "metadata": {},
     "output_type": "execute_result"
    }
   ],
   "source": [
    "df2.dtypes"
   ]
  },
  {
   "cell_type": "code",
   "execution_count": 20,
   "id": "c41bdf53",
   "metadata": {},
   "outputs": [],
   "source": [
    "df2[\"day\"] = df2[\"timestamp_of_call\"].dt.day\n",
    "df2[\"month\"] = df2[\"timestamp_of_call\"].dt.month\n",
    "df2[\"year\"] = df2[\"timestamp_of_call\"].dt.year\n",
    "df2[\"weekday\"] = df2[\"timestamp_of_call\"].dt.weekday\n",
    "df2[\"hour\"] = df2[\"timestamp_of_call\"].dt.hour"
   ]
  },
  {
   "cell_type": "code",
   "execution_count": 21,
   "id": "34e092d1",
   "metadata": {},
   "outputs": [
    {
     "data": {
      "text/html": [
       "<div>\n",
       "<style scoped>\n",
       "    .dataframe tbody tr th:only-of-type {\n",
       "        vertical-align: middle;\n",
       "    }\n",
       "\n",
       "    .dataframe tbody tr th {\n",
       "        vertical-align: top;\n",
       "    }\n",
       "\n",
       "    .dataframe thead th {\n",
       "        text-align: right;\n",
       "    }\n",
       "</style>\n",
       "<table border=\"1\" class=\"dataframe\">\n",
       "  <thead>\n",
       "    <tr style=\"text-align: right;\">\n",
       "      <th></th>\n",
       "      <th>borough</th>\n",
       "      <th>property_type</th>\n",
       "      <th>timestamp_of_call</th>\n",
       "      <th>day</th>\n",
       "      <th>month</th>\n",
       "      <th>year</th>\n",
       "      <th>weekday</th>\n",
       "      <th>hour</th>\n",
       "    </tr>\n",
       "  </thead>\n",
       "  <tbody>\n",
       "    <tr>\n",
       "      <th>0</th>\n",
       "      <td>Kensington And chelsea</td>\n",
       "      <td>Purpose Built Flats/Maisonettes - 4 to 9 storeys</td>\n",
       "      <td>2017-01-01 16:48:00</td>\n",
       "      <td>1</td>\n",
       "      <td>1</td>\n",
       "      <td>2017</td>\n",
       "      <td>6</td>\n",
       "      <td>16</td>\n",
       "    </tr>\n",
       "    <tr>\n",
       "      <th>1</th>\n",
       "      <td>Camden</td>\n",
       "      <td>Purpose Built Flats/Maisonettes - 4 to 9 storeys</td>\n",
       "      <td>2017-01-01 22:20:00</td>\n",
       "      <td>1</td>\n",
       "      <td>1</td>\n",
       "      <td>2017</td>\n",
       "      <td>6</td>\n",
       "      <td>22</td>\n",
       "    </tr>\n",
       "    <tr>\n",
       "      <th>2</th>\n",
       "      <td>Southwark</td>\n",
       "      <td>Purpose Built Flats/Maisonettes - 4 to 9 storeys</td>\n",
       "      <td>2017-01-01 09:51:00</td>\n",
       "      <td>1</td>\n",
       "      <td>1</td>\n",
       "      <td>2017</td>\n",
       "      <td>6</td>\n",
       "      <td>9</td>\n",
       "    </tr>\n",
       "    <tr>\n",
       "      <th>3</th>\n",
       "      <td>Westminster</td>\n",
       "      <td>Purpose Built Flats/Maisonettes - 4 to 9 storeys</td>\n",
       "      <td>2017-01-01 00:28:00</td>\n",
       "      <td>1</td>\n",
       "      <td>1</td>\n",
       "      <td>2017</td>\n",
       "      <td>6</td>\n",
       "      <td>0</td>\n",
       "    </tr>\n",
       "    <tr>\n",
       "      <th>4</th>\n",
       "      <td>Barking And dagenham</td>\n",
       "      <td>House - single occupancy</td>\n",
       "      <td>2017-01-01 13:33:00</td>\n",
       "      <td>1</td>\n",
       "      <td>1</td>\n",
       "      <td>2017</td>\n",
       "      <td>6</td>\n",
       "      <td>13</td>\n",
       "    </tr>\n",
       "  </tbody>\n",
       "</table>\n",
       "</div>"
      ],
      "text/plain": [
       "                  borough                                     property_type  \\\n",
       "0  Kensington And chelsea  Purpose Built Flats/Maisonettes - 4 to 9 storeys   \n",
       "1                  Camden  Purpose Built Flats/Maisonettes - 4 to 9 storeys   \n",
       "2               Southwark  Purpose Built Flats/Maisonettes - 4 to 9 storeys   \n",
       "3             Westminster  Purpose Built Flats/Maisonettes - 4 to 9 storeys   \n",
       "4    Barking And dagenham                          House - single occupancy   \n",
       "\n",
       "    timestamp_of_call  day  month  year  weekday  hour  \n",
       "0 2017-01-01 16:48:00    1      1  2017        6    16  \n",
       "1 2017-01-01 22:20:00    1      1  2017        6    22  \n",
       "2 2017-01-01 09:51:00    1      1  2017        6     9  \n",
       "3 2017-01-01 00:28:00    1      1  2017        6     0  \n",
       "4 2017-01-01 13:33:00    1      1  2017        6    13  "
      ]
     },
     "execution_count": 21,
     "metadata": {},
     "output_type": "execute_result"
    }
   ],
   "source": [
    "df2.head()"
   ]
  },
  {
   "cell_type": "code",
   "execution_count": 22,
   "id": "7dfabe82",
   "metadata": {},
   "outputs": [
    {
     "data": {
      "text/plain": [
       "borough              0.0\n",
       "property_type        0.0\n",
       "timestamp_of_call    0.0\n",
       "day                  0.0\n",
       "month                0.0\n",
       "year                 0.0\n",
       "weekday              0.0\n",
       "hour                 0.0\n",
       "dtype: float64"
      ]
     },
     "execution_count": 22,
     "metadata": {},
     "output_type": "execute_result"
    }
   ],
   "source": [
    "df2.isnull().mean()"
   ]
  },
  {
   "cell_type": "code",
   "execution_count": 23,
   "id": "001e066a",
   "metadata": {},
   "outputs": [],
   "source": [
    "##Splitting Compound Strings With Python"
   ]
  },
  {
   "cell_type": "code",
   "execution_count": 24,
   "id": "4b65dee6",
   "metadata": {},
   "outputs": [
    {
     "data": {
      "text/html": [
       "<div>\n",
       "<style scoped>\n",
       "    .dataframe tbody tr th:only-of-type {\n",
       "        vertical-align: middle;\n",
       "    }\n",
       "\n",
       "    .dataframe tbody tr th {\n",
       "        vertical-align: top;\n",
       "    }\n",
       "\n",
       "    .dataframe thead th {\n",
       "        text-align: right;\n",
       "    }\n",
       "</style>\n",
       "<table border=\"1\" class=\"dataframe\">\n",
       "  <thead>\n",
       "    <tr style=\"text-align: right;\">\n",
       "      <th></th>\n",
       "      <th>borough</th>\n",
       "      <th>property_type</th>\n",
       "      <th>timestamp_of_call</th>\n",
       "    </tr>\n",
       "  </thead>\n",
       "  <tbody>\n",
       "    <tr>\n",
       "      <th>0</th>\n",
       "      <td>Kensington And chelsea</td>\n",
       "      <td>Purpose Built Flats/Maisonettes - 4 to 9 storeys</td>\n",
       "      <td>01/01/2017 16:48</td>\n",
       "    </tr>\n",
       "    <tr>\n",
       "      <th>1</th>\n",
       "      <td>Camden</td>\n",
       "      <td>Purpose Built Flats/Maisonettes - 4 to 9 storeys</td>\n",
       "      <td>01/01/2017 22:20</td>\n",
       "    </tr>\n",
       "    <tr>\n",
       "      <th>2</th>\n",
       "      <td>Southwark</td>\n",
       "      <td>Purpose Built Flats/Maisonettes - 4 to 9 storeys</td>\n",
       "      <td>01/01/2017 09:51</td>\n",
       "    </tr>\n",
       "    <tr>\n",
       "      <th>3</th>\n",
       "      <td>Westminster</td>\n",
       "      <td>Purpose Built Flats/Maisonettes - 4 to 9 storeys</td>\n",
       "      <td>01/01/2017 00:28</td>\n",
       "    </tr>\n",
       "    <tr>\n",
       "      <th>4</th>\n",
       "      <td>Barking And dagenham</td>\n",
       "      <td>House - single occupancy</td>\n",
       "      <td>01/01/2017 13:33</td>\n",
       "    </tr>\n",
       "  </tbody>\n",
       "</table>\n",
       "</div>"
      ],
      "text/plain": [
       "                  borough                                     property_type  \\\n",
       "0  Kensington And chelsea  Purpose Built Flats/Maisonettes - 4 to 9 storeys   \n",
       "1                  Camden  Purpose Built Flats/Maisonettes - 4 to 9 storeys   \n",
       "2               Southwark  Purpose Built Flats/Maisonettes - 4 to 9 storeys   \n",
       "3             Westminster  Purpose Built Flats/Maisonettes - 4 to 9 storeys   \n",
       "4    Barking And dagenham                          House - single occupancy   \n",
       "\n",
       "  timestamp_of_call  \n",
       "0  01/01/2017 16:48  \n",
       "1  01/01/2017 22:20  \n",
       "2  01/01/2017 09:51  \n",
       "3  01/01/2017 00:28  \n",
       "4  01/01/2017 13:33  "
      ]
     },
     "execution_count": 24,
     "metadata": {},
     "output_type": "execute_result"
    }
   ],
   "source": [
    "df3 = pd.read_csv(\"fe_splitting.csv\")\n",
    "df3.head()"
   ]
  },
  {
   "cell_type": "code",
   "execution_count": 25,
   "id": "41888e8d",
   "metadata": {},
   "outputs": [
    {
     "data": {
      "text/plain": [
       "array(['Purpose Built Flats/Maisonettes - 4 to 9 storeys',\n",
       "       'House - single occupancy',\n",
       "       'Converted Flat/Maisonette - Up to 2 storeys',\n",
       "       'Purpose Built Flats/Maisonettes - Up to 3 storeys',\n",
       "       'Purpose Built Flats/Maisonettes - 10 or more storeys',\n",
       "       'Converted Flat/Maisonettes - 3 or more storeys',\n",
       "       'Self contained Sheltered Housing',\n",
       "       'Unlicensed House in Multiple Occupation - Up to 2 storeys',\n",
       "       'House in Multiple Occupation - 3 or more storeys (not known if licensed)',\n",
       "       'Student Hall of Residence', 'Other Residential Home',\n",
       "       'Unlicensed House in Multiple Occupation - 3 or more storeys',\n",
       "       'Nursing/Care Home/Hospice', \"Nurses'/Doctors' accommodation\",\n",
       "       'House in Multiple Occupation - Up to 2 storeys (not known if licensed)',\n",
       "       'Hotel/motel', \"Children's Home\",\n",
       "       'Hostel (e.g. for homeless people)', 'Retirement/Old Persons Home',\n",
       "       'Licensed House in Multiple Occupation - Up to 2 storeys',\n",
       "       'Bungalow - single occupancy', 'Other Dwelling',\n",
       "       'Military/barracks', 'Houseboat (permanent dwelling)',\n",
       "       'Licensed House in Multiple Occupation - 3 or more storeys',\n",
       "       'Boarding House/B&B for homeless/asylum seekers',\n",
       "       'Caravan/Mobile home (permanent dwelling)'], dtype=object)"
      ]
     },
     "execution_count": 25,
     "metadata": {},
     "output_type": "execute_result"
    }
   ],
   "source": [
    "df3[\"property_type\"].unique()"
   ]
  },
  {
   "cell_type": "code",
   "execution_count": 26,
   "id": "6c5bf90c",
   "metadata": {},
   "outputs": [
    {
     "data": {
      "text/html": [
       "<div>\n",
       "<style scoped>\n",
       "    .dataframe tbody tr th:only-of-type {\n",
       "        vertical-align: middle;\n",
       "    }\n",
       "\n",
       "    .dataframe tbody tr th {\n",
       "        vertical-align: top;\n",
       "    }\n",
       "\n",
       "    .dataframe thead th {\n",
       "        text-align: right;\n",
       "    }\n",
       "</style>\n",
       "<table border=\"1\" class=\"dataframe\">\n",
       "  <thead>\n",
       "    <tr style=\"text-align: right;\">\n",
       "      <th></th>\n",
       "      <th>borough</th>\n",
       "      <th>property_type</th>\n",
       "      <th>timestamp_of_call</th>\n",
       "      <th>property_type_type</th>\n",
       "      <th>property_type_size</th>\n",
       "    </tr>\n",
       "  </thead>\n",
       "  <tbody>\n",
       "    <tr>\n",
       "      <th>0</th>\n",
       "      <td>Kensington And chelsea</td>\n",
       "      <td>Purpose Built Flats/Maisonettes - 4 to 9 storeys</td>\n",
       "      <td>01/01/2017 16:48</td>\n",
       "      <td>Purpose Built Flats/Maisonettes</td>\n",
       "      <td>4 to 9 storeys</td>\n",
       "    </tr>\n",
       "    <tr>\n",
       "      <th>1</th>\n",
       "      <td>Camden</td>\n",
       "      <td>Purpose Built Flats/Maisonettes - 4 to 9 storeys</td>\n",
       "      <td>01/01/2017 22:20</td>\n",
       "      <td>Purpose Built Flats/Maisonettes</td>\n",
       "      <td>4 to 9 storeys</td>\n",
       "    </tr>\n",
       "    <tr>\n",
       "      <th>2</th>\n",
       "      <td>Southwark</td>\n",
       "      <td>Purpose Built Flats/Maisonettes - 4 to 9 storeys</td>\n",
       "      <td>01/01/2017 09:51</td>\n",
       "      <td>Purpose Built Flats/Maisonettes</td>\n",
       "      <td>4 to 9 storeys</td>\n",
       "    </tr>\n",
       "    <tr>\n",
       "      <th>3</th>\n",
       "      <td>Westminster</td>\n",
       "      <td>Purpose Built Flats/Maisonettes - 4 to 9 storeys</td>\n",
       "      <td>01/01/2017 00:28</td>\n",
       "      <td>Purpose Built Flats/Maisonettes</td>\n",
       "      <td>4 to 9 storeys</td>\n",
       "    </tr>\n",
       "    <tr>\n",
       "      <th>4</th>\n",
       "      <td>Barking And dagenham</td>\n",
       "      <td>House - single occupancy</td>\n",
       "      <td>01/01/2017 13:33</td>\n",
       "      <td>House</td>\n",
       "      <td>single occupancy</td>\n",
       "    </tr>\n",
       "  </tbody>\n",
       "</table>\n",
       "</div>"
      ],
      "text/plain": [
       "                  borough                                     property_type  \\\n",
       "0  Kensington And chelsea  Purpose Built Flats/Maisonettes - 4 to 9 storeys   \n",
       "1                  Camden  Purpose Built Flats/Maisonettes - 4 to 9 storeys   \n",
       "2               Southwark  Purpose Built Flats/Maisonettes - 4 to 9 storeys   \n",
       "3             Westminster  Purpose Built Flats/Maisonettes - 4 to 9 storeys   \n",
       "4    Barking And dagenham                          House - single occupancy   \n",
       "\n",
       "  timestamp_of_call                property_type_type property_type_size  \n",
       "0  01/01/2017 16:48  Purpose Built Flats/Maisonettes      4 to 9 storeys  \n",
       "1  01/01/2017 22:20  Purpose Built Flats/Maisonettes      4 to 9 storeys  \n",
       "2  01/01/2017 09:51  Purpose Built Flats/Maisonettes      4 to 9 storeys  \n",
       "3  01/01/2017 00:28  Purpose Built Flats/Maisonettes      4 to 9 storeys  \n",
       "4  01/01/2017 13:33                            House    single occupancy  "
      ]
     },
     "execution_count": 26,
     "metadata": {},
     "output_type": "execute_result"
    }
   ],
   "source": [
    "df3[['property_type_type', 'property_type_size']] = df3[\"property_type\"].str.split(\"-\",expand=True)\n",
    "df3.head()"
   ]
  },
  {
   "cell_type": "code",
   "execution_count": 27,
   "id": "e5ec593e",
   "metadata": {},
   "outputs": [
    {
     "data": {
      "text/plain": [
       "borough               0.00000\n",
       "property_type         0.00000\n",
       "timestamp_of_call     0.00000\n",
       "property_type_type    0.00000\n",
       "property_type_size    0.10007\n",
       "dtype: float64"
      ]
     },
     "execution_count": 27,
     "metadata": {},
     "output_type": "execute_result"
    }
   ],
   "source": [
    "df3.isnull().mean()"
   ]
  },
  {
   "cell_type": "code",
   "execution_count": 28,
   "id": "8569ac24",
   "metadata": {},
   "outputs": [],
   "source": [
    "## One-Hot Encoding"
   ]
  },
  {
   "cell_type": "code",
   "execution_count": 29,
   "id": "206849f8",
   "metadata": {},
   "outputs": [
    {
     "data": {
      "text/html": [
       "<div>\n",
       "<style scoped>\n",
       "    .dataframe tbody tr th:only-of-type {\n",
       "        vertical-align: middle;\n",
       "    }\n",
       "\n",
       "    .dataframe tbody tr th {\n",
       "        vertical-align: top;\n",
       "    }\n",
       "\n",
       "    .dataframe thead th {\n",
       "        text-align: right;\n",
       "    }\n",
       "</style>\n",
       "<table border=\"1\" class=\"dataframe\">\n",
       "  <thead>\n",
       "    <tr style=\"text-align: right;\">\n",
       "      <th></th>\n",
       "      <th>country</th>\n",
       "      <th>happiness</th>\n",
       "      <th>region</th>\n",
       "    </tr>\n",
       "  </thead>\n",
       "  <tbody>\n",
       "    <tr>\n",
       "      <th>0</th>\n",
       "      <td>Afghanistan</td>\n",
       "      <td>3.982855</td>\n",
       "      <td>South Asia</td>\n",
       "    </tr>\n",
       "    <tr>\n",
       "      <th>1</th>\n",
       "      <td>Albania</td>\n",
       "      <td>4.606651</td>\n",
       "      <td>Europe &amp; Central Asia</td>\n",
       "    </tr>\n",
       "    <tr>\n",
       "      <th>2</th>\n",
       "      <td>Argentina</td>\n",
       "      <td>6.697131</td>\n",
       "      <td>Latin America &amp; Caribbean</td>\n",
       "    </tr>\n",
       "    <tr>\n",
       "      <th>3</th>\n",
       "      <td>Armenia</td>\n",
       "      <td>4.348320</td>\n",
       "      <td>Europe &amp; Central Asia</td>\n",
       "    </tr>\n",
       "    <tr>\n",
       "      <th>4</th>\n",
       "      <td>Australia</td>\n",
       "      <td>7.309061</td>\n",
       "      <td>East Asia &amp; Pacific</td>\n",
       "    </tr>\n",
       "  </tbody>\n",
       "</table>\n",
       "</div>"
      ],
      "text/plain": [
       "       country  happiness                     region\n",
       "0  Afghanistan   3.982855                 South Asia\n",
       "1      Albania   4.606651      Europe & Central Asia\n",
       "2    Argentina   6.697131  Latin America & Caribbean\n",
       "3      Armenia   4.348320      Europe & Central Asia\n",
       "4    Australia   7.309061        East Asia & Pacific"
      ]
     },
     "execution_count": 29,
     "metadata": {},
     "output_type": "execute_result"
    }
   ],
   "source": [
    "df4 = pd.read_csv(\"fe_one_hot.csv\")\n",
    "df4.head()"
   ]
  },
  {
   "cell_type": "code",
   "execution_count": 30,
   "id": "99315434",
   "metadata": {},
   "outputs": [
    {
     "data": {
      "text/html": [
       "<div>\n",
       "<style scoped>\n",
       "    .dataframe tbody tr th:only-of-type {\n",
       "        vertical-align: middle;\n",
       "    }\n",
       "\n",
       "    .dataframe tbody tr th {\n",
       "        vertical-align: top;\n",
       "    }\n",
       "\n",
       "    .dataframe thead th {\n",
       "        text-align: right;\n",
       "    }\n",
       "</style>\n",
       "<table border=\"1\" class=\"dataframe\">\n",
       "  <thead>\n",
       "    <tr style=\"text-align: right;\">\n",
       "      <th></th>\n",
       "      <th>East Asia &amp; Pacific</th>\n",
       "      <th>Europe &amp; Central Asia</th>\n",
       "      <th>Latin America &amp; Caribbean</th>\n",
       "      <th>Middle East &amp; North Africa</th>\n",
       "      <th>North America</th>\n",
       "      <th>South Asia</th>\n",
       "      <th>Sub-Saharan Africa</th>\n",
       "    </tr>\n",
       "  </thead>\n",
       "  <tbody>\n",
       "    <tr>\n",
       "      <th>0</th>\n",
       "      <td>0</td>\n",
       "      <td>0</td>\n",
       "      <td>0</td>\n",
       "      <td>0</td>\n",
       "      <td>0</td>\n",
       "      <td>1</td>\n",
       "      <td>0</td>\n",
       "    </tr>\n",
       "    <tr>\n",
       "      <th>1</th>\n",
       "      <td>0</td>\n",
       "      <td>1</td>\n",
       "      <td>0</td>\n",
       "      <td>0</td>\n",
       "      <td>0</td>\n",
       "      <td>0</td>\n",
       "      <td>0</td>\n",
       "    </tr>\n",
       "    <tr>\n",
       "      <th>2</th>\n",
       "      <td>0</td>\n",
       "      <td>0</td>\n",
       "      <td>1</td>\n",
       "      <td>0</td>\n",
       "      <td>0</td>\n",
       "      <td>0</td>\n",
       "      <td>0</td>\n",
       "    </tr>\n",
       "    <tr>\n",
       "      <th>3</th>\n",
       "      <td>0</td>\n",
       "      <td>1</td>\n",
       "      <td>0</td>\n",
       "      <td>0</td>\n",
       "      <td>0</td>\n",
       "      <td>0</td>\n",
       "      <td>0</td>\n",
       "    </tr>\n",
       "    <tr>\n",
       "      <th>4</th>\n",
       "      <td>1</td>\n",
       "      <td>0</td>\n",
       "      <td>0</td>\n",
       "      <td>0</td>\n",
       "      <td>0</td>\n",
       "      <td>0</td>\n",
       "      <td>0</td>\n",
       "    </tr>\n",
       "  </tbody>\n",
       "</table>\n",
       "</div>"
      ],
      "text/plain": [
       "   East Asia & Pacific  Europe & Central Asia  Latin America & Caribbean  \\\n",
       "0                    0                      0                          0   \n",
       "1                    0                      1                          0   \n",
       "2                    0                      0                          1   \n",
       "3                    0                      1                          0   \n",
       "4                    1                      0                          0   \n",
       "\n",
       "   Middle East & North Africa  North America  South Asia  Sub-Saharan Africa  \n",
       "0                           0              0           1                   0  \n",
       "1                           0              0           0                   0  \n",
       "2                           0              0           0                   0  \n",
       "3                           0              0           0                   0  \n",
       "4                           0              0           0                   0  "
      ]
     },
     "execution_count": 30,
     "metadata": {},
     "output_type": "execute_result"
    }
   ],
   "source": [
    "region_one_hot = pd.get_dummies(df4.region)\n",
    "region_one_hot.head()"
   ]
  },
  {
   "cell_type": "code",
   "execution_count": 31,
   "id": "86448814",
   "metadata": {},
   "outputs": [],
   "source": [
    "##Join the new columns back onto the dataset, dropping the region column that we just encoded:"
   ]
  },
  {
   "cell_type": "code",
   "execution_count": 32,
   "id": "5218b386",
   "metadata": {},
   "outputs": [
    {
     "data": {
      "text/html": [
       "<div>\n",
       "<style scoped>\n",
       "    .dataframe tbody tr th:only-of-type {\n",
       "        vertical-align: middle;\n",
       "    }\n",
       "\n",
       "    .dataframe tbody tr th {\n",
       "        vertical-align: top;\n",
       "    }\n",
       "\n",
       "    .dataframe thead th {\n",
       "        text-align: right;\n",
       "    }\n",
       "</style>\n",
       "<table border=\"1\" class=\"dataframe\">\n",
       "  <thead>\n",
       "    <tr style=\"text-align: right;\">\n",
       "      <th></th>\n",
       "      <th>country</th>\n",
       "      <th>happiness</th>\n",
       "      <th>East Asia &amp; Pacific</th>\n",
       "      <th>Europe &amp; Central Asia</th>\n",
       "      <th>Latin America &amp; Caribbean</th>\n",
       "      <th>Middle East &amp; North Africa</th>\n",
       "      <th>North America</th>\n",
       "      <th>South Asia</th>\n",
       "      <th>Sub-Saharan Africa</th>\n",
       "    </tr>\n",
       "  </thead>\n",
       "  <tbody>\n",
       "    <tr>\n",
       "      <th>0</th>\n",
       "      <td>Afghanistan</td>\n",
       "      <td>3.982855</td>\n",
       "      <td>0</td>\n",
       "      <td>0</td>\n",
       "      <td>0</td>\n",
       "      <td>0</td>\n",
       "      <td>0</td>\n",
       "      <td>1</td>\n",
       "      <td>0</td>\n",
       "    </tr>\n",
       "    <tr>\n",
       "      <th>1</th>\n",
       "      <td>Albania</td>\n",
       "      <td>4.606651</td>\n",
       "      <td>0</td>\n",
       "      <td>1</td>\n",
       "      <td>0</td>\n",
       "      <td>0</td>\n",
       "      <td>0</td>\n",
       "      <td>0</td>\n",
       "      <td>0</td>\n",
       "    </tr>\n",
       "    <tr>\n",
       "      <th>2</th>\n",
       "      <td>Argentina</td>\n",
       "      <td>6.697131</td>\n",
       "      <td>0</td>\n",
       "      <td>0</td>\n",
       "      <td>1</td>\n",
       "      <td>0</td>\n",
       "      <td>0</td>\n",
       "      <td>0</td>\n",
       "      <td>0</td>\n",
       "    </tr>\n",
       "    <tr>\n",
       "      <th>3</th>\n",
       "      <td>Armenia</td>\n",
       "      <td>4.348320</td>\n",
       "      <td>0</td>\n",
       "      <td>1</td>\n",
       "      <td>0</td>\n",
       "      <td>0</td>\n",
       "      <td>0</td>\n",
       "      <td>0</td>\n",
       "      <td>0</td>\n",
       "    </tr>\n",
       "    <tr>\n",
       "      <th>4</th>\n",
       "      <td>Australia</td>\n",
       "      <td>7.309061</td>\n",
       "      <td>1</td>\n",
       "      <td>0</td>\n",
       "      <td>0</td>\n",
       "      <td>0</td>\n",
       "      <td>0</td>\n",
       "      <td>0</td>\n",
       "      <td>0</td>\n",
       "    </tr>\n",
       "  </tbody>\n",
       "</table>\n",
       "</div>"
      ],
      "text/plain": [
       "       country  happiness  East Asia & Pacific  Europe & Central Asia  \\\n",
       "0  Afghanistan   3.982855                    0                      0   \n",
       "1      Albania   4.606651                    0                      1   \n",
       "2    Argentina   6.697131                    0                      0   \n",
       "3      Armenia   4.348320                    0                      1   \n",
       "4    Australia   7.309061                    1                      0   \n",
       "\n",
       "   Latin America & Caribbean  Middle East & North Africa  North America  \\\n",
       "0                          0                           0              0   \n",
       "1                          0                           0              0   \n",
       "2                          1                           0              0   \n",
       "3                          0                           0              0   \n",
       "4                          0                           0              0   \n",
       "\n",
       "   South Asia  Sub-Saharan Africa  \n",
       "0           1                   0  \n",
       "1           0                   0  \n",
       "2           0                   0  \n",
       "3           0                   0  \n",
       "4           0                   0  "
      ]
     },
     "execution_count": 32,
     "metadata": {},
     "output_type": "execute_result"
    }
   ],
   "source": [
    "df4 = df4.join(region_one_hot).drop('region', axis=1)\n",
    "df4.head()"
   ]
  },
  {
   "cell_type": "code",
   "execution_count": 33,
   "id": "5a12304d",
   "metadata": {},
   "outputs": [],
   "source": [
    "##Calculated Features"
   ]
  },
  {
   "cell_type": "code",
   "execution_count": null,
   "id": "14d35616",
   "metadata": {},
   "outputs": [],
   "source": []
  }
 ],
 "metadata": {
  "kernelspec": {
   "display_name": "Python 3",
   "language": "python",
   "name": "python3"
  },
  "language_info": {
   "codemirror_mode": {
    "name": "ipython",
    "version": 3
   },
   "file_extension": ".py",
   "mimetype": "text/x-python",
   "name": "python",
   "nbconvert_exporter": "python",
   "pygments_lexer": "ipython3",
   "version": "3.8.8"
  }
 },
 "nbformat": 4,
 "nbformat_minor": 5
}
