{
 "cells": [
  {
   "cell_type": "code",
   "execution_count": 22,
   "id": "b0c46b98",
   "metadata": {},
   "outputs": [],
   "source": [
    "import pandas as pd\n",
    "import numpy as np\n",
    "import seaborn as sns\n",
    "##Vous pouvez générer un dataset de type moon avec par exemple\n",
    "\n",
    "##data = datasets.make_moons(n_samples=n_samples, noise=0.05)"
   ]
  },
  {
   "cell_type": "code",
   "execution_count": 23,
   "id": "0583679c",
   "metadata": {},
   "outputs": [],
   "source": [
    "##et de type circle (cercle) avec \n",
    "##data = datasets.make_circles(n_samples=n_samples, factor=0.5, noise=0.05)"
   ]
  },
  {
   "cell_type": "code",
   "execution_count": 24,
   "id": "9c624212",
   "metadata": {},
   "outputs": [],
   "source": [
    "## En résumé\n",
    "##Les gains de performance potentiels sont obtenus en travaillant sur les données d'entraînement.\n",
    "\n",
    "##Scikit-learn offre de multiples fonctions pour créer des jeux de données de classification.\n",
    "\n",
    "##Si l'on n'y prête pas attention, un modèle de prédiction peut reproduire des à-prioris nuisibles"
   ]
  },
  {
   "cell_type": "code",
   "execution_count": 25,
   "id": "c7f37b39",
   "metadata": {},
   "outputs": [],
   "source": [
    "#df= pd.read_csv(\"paris.csv\")"
   ]
  },
  {
   "cell_type": "code",
   "execution_count": 26,
   "id": "f0e4b812",
   "metadata": {},
   "outputs": [],
   "source": [
    "#df.head()"
   ]
  },
  {
   "cell_type": "code",
   "execution_count": 27,
   "id": "b61cebfd",
   "metadata": {},
   "outputs": [],
   "source": [
    "df = df[df.libelle_francais == 'Platane'].copy()"
   ]
  },
  {
   "cell_type": "code",
   "execution_count": 28,
   "id": "d822ba8c",
   "metadata": {},
   "outputs": [
    {
     "data": {
      "text/html": [
       "<div>\n",
       "<style scoped>\n",
       "    .dataframe tbody tr th:only-of-type {\n",
       "        vertical-align: middle;\n",
       "    }\n",
       "\n",
       "    .dataframe tbody tr th {\n",
       "        vertical-align: top;\n",
       "    }\n",
       "\n",
       "    .dataframe thead th {\n",
       "        text-align: right;\n",
       "    }\n",
       "</style>\n",
       "<table border=\"1\" class=\"dataframe\">\n",
       "  <thead>\n",
       "    <tr style=\"text-align: right;\">\n",
       "      <th></th>\n",
       "      <th>idbase</th>\n",
       "      <th>domanialite</th>\n",
       "      <th>arrondissement</th>\n",
       "      <th>complement_adresse</th>\n",
       "      <th>numero</th>\n",
       "      <th>lieu_adresse</th>\n",
       "      <th>idemplacement</th>\n",
       "      <th>libelle_francais</th>\n",
       "      <th>genre</th>\n",
       "      <th>espece</th>\n",
       "      <th>variete_oucultivar</th>\n",
       "      <th>circonference_cm</th>\n",
       "      <th>hauteur_m</th>\n",
       "      <th>stade_de_developpement</th>\n",
       "      <th>remarquable</th>\n",
       "      <th>geo_point_2d</th>\n",
       "    </tr>\n",
       "  </thead>\n",
       "  <tbody>\n",
       "    <tr>\n",
       "      <th>3</th>\n",
       "      <td>238226</td>\n",
       "      <td>Alignement</td>\n",
       "      <td>PARIS 12E ARRDT</td>\n",
       "      <td>37</td>\n",
       "      <td>NaN</td>\n",
       "      <td>AVENUE DE SAINT MANDE</td>\n",
       "      <td>000501020</td>\n",
       "      <td>Platane</td>\n",
       "      <td>Platanus</td>\n",
       "      <td>x hispanica</td>\n",
       "      <td>NaN</td>\n",
       "      <td>30.0</td>\n",
       "      <td>5.0</td>\n",
       "      <td>Jeune (arbre)</td>\n",
       "      <td>NON</td>\n",
       "      <td>48.84515461889761, 2.4008303350818525</td>\n",
       "    </tr>\n",
       "    <tr>\n",
       "      <th>9</th>\n",
       "      <td>289464</td>\n",
       "      <td>Alignement</td>\n",
       "      <td>PARIS 12E ARRDT</td>\n",
       "      <td>NaN</td>\n",
       "      <td>NaN</td>\n",
       "      <td>AVENUE LEDRU ROLLIN</td>\n",
       "      <td>000402007</td>\n",
       "      <td>Platane</td>\n",
       "      <td>Platanus</td>\n",
       "      <td>x hispanica</td>\n",
       "      <td>NaN</td>\n",
       "      <td>60.0</td>\n",
       "      <td>10.0</td>\n",
       "      <td>Adulte</td>\n",
       "      <td>NON</td>\n",
       "      <td>48.84717970255216, 2.37017013054543</td>\n",
       "    </tr>\n",
       "    <tr>\n",
       "      <th>10</th>\n",
       "      <td>221701</td>\n",
       "      <td>Alignement</td>\n",
       "      <td>PARIS 16E ARRDT</td>\n",
       "      <td>NaN</td>\n",
       "      <td>NaN</td>\n",
       "      <td>BOULEVARD DE L AMIRAL BRUIX</td>\n",
       "      <td>000705007</td>\n",
       "      <td>Platane</td>\n",
       "      <td>Platanus</td>\n",
       "      <td>x hispanica</td>\n",
       "      <td>NaN</td>\n",
       "      <td>68.0</td>\n",
       "      <td>10.0</td>\n",
       "      <td>Jeune (arbre)Adulte</td>\n",
       "      <td>NON</td>\n",
       "      <td>48.87428152523608, 2.2783797113253454</td>\n",
       "    </tr>\n",
       "    <tr>\n",
       "      <th>11</th>\n",
       "      <td>227024</td>\n",
       "      <td>Alignement</td>\n",
       "      <td>PARIS 19E ARRDT</td>\n",
       "      <td>59</td>\n",
       "      <td>NaN</td>\n",
       "      <td>RUE DAVID D ANGERS</td>\n",
       "      <td>000901019</td>\n",
       "      <td>Platane</td>\n",
       "      <td>Platanus</td>\n",
       "      <td>x hispanica</td>\n",
       "      <td>''Pyramidalis''</td>\n",
       "      <td>30.0</td>\n",
       "      <td>5.0</td>\n",
       "      <td>Jeune (arbre)</td>\n",
       "      <td>NON</td>\n",
       "      <td>48.881527844507275, 2.395607068367473</td>\n",
       "    </tr>\n",
       "    <tr>\n",
       "      <th>17</th>\n",
       "      <td>285387</td>\n",
       "      <td>Alignement</td>\n",
       "      <td>PARIS 10E ARRDT</td>\n",
       "      <td>face à peugeot à gauche des wc</td>\n",
       "      <td>NaN</td>\n",
       "      <td>RUE DU FAUBOURG SAINT MARTIN</td>\n",
       "      <td>001301027</td>\n",
       "      <td>Platane</td>\n",
       "      <td>Platanus</td>\n",
       "      <td>x hispanica</td>\n",
       "      <td>NaN</td>\n",
       "      <td>53.0</td>\n",
       "      <td>8.0</td>\n",
       "      <td>Adulte</td>\n",
       "      <td>NON</td>\n",
       "      <td>48.878100132217135, 2.3616292876411995</td>\n",
       "    </tr>\n",
       "  </tbody>\n",
       "</table>\n",
       "</div>"
      ],
      "text/plain": [
       "    idbase domanialite   arrondissement              complement_adresse  \\\n",
       "3   238226  Alignement  PARIS 12E ARRDT                              37   \n",
       "9   289464  Alignement  PARIS 12E ARRDT                             NaN   \n",
       "10  221701  Alignement  PARIS 16E ARRDT                             NaN   \n",
       "11  227024  Alignement  PARIS 19E ARRDT                              59   \n",
       "17  285387  Alignement  PARIS 10E ARRDT  face à peugeot à gauche des wc   \n",
       "\n",
       "   numero                  lieu_adresse idemplacement libelle_francais  \\\n",
       "3     NaN         AVENUE DE SAINT MANDE     000501020          Platane   \n",
       "9     NaN           AVENUE LEDRU ROLLIN     000402007          Platane   \n",
       "10    NaN   BOULEVARD DE L AMIRAL BRUIX     000705007          Platane   \n",
       "11    NaN            RUE DAVID D ANGERS     000901019          Platane   \n",
       "17    NaN  RUE DU FAUBOURG SAINT MARTIN     001301027          Platane   \n",
       "\n",
       "       genre       espece variete_oucultivar  circonference_cm  hauteur_m  \\\n",
       "3   Platanus  x hispanica                NaN              30.0        5.0   \n",
       "9   Platanus  x hispanica                NaN              60.0       10.0   \n",
       "10  Platanus  x hispanica                NaN              68.0       10.0   \n",
       "11  Platanus  x hispanica    ''Pyramidalis''              30.0        5.0   \n",
       "17  Platanus  x hispanica                NaN              53.0        8.0   \n",
       "\n",
       "   stade_de_developpement remarquable                            geo_point_2d  \n",
       "3           Jeune (arbre)         NON   48.84515461889761, 2.4008303350818525  \n",
       "9                  Adulte         NON     48.84717970255216, 2.37017013054543  \n",
       "10    Jeune (arbre)Adulte         NON   48.87428152523608, 2.2783797113253454  \n",
       "11          Jeune (arbre)         NON   48.881527844507275, 2.395607068367473  \n",
       "17                 Adulte         NON  48.878100132217135, 2.3616292876411995  "
      ]
     },
     "execution_count": 28,
     "metadata": {},
     "output_type": "execute_result"
    }
   ],
   "source": [
    "df.head()"
   ]
  },
  {
   "cell_type": "code",
   "execution_count": 29,
   "id": "8f643aa1",
   "metadata": {},
   "outputs": [
    {
     "data": {
      "text/plain": [
       "(22, 16)"
      ]
     },
     "execution_count": 29,
     "metadata": {},
     "output_type": "execute_result"
    }
   ],
   "source": [
    "cond = (df.stade_de_developpement.isna()) & (df.hauteur_m > 20) & (df.circonference_cm > 200)\n",
    "df[cond].shape"
   ]
  },
  {
   "cell_type": "code",
   "execution_count": 30,
   "id": "dfac4771",
   "metadata": {},
   "outputs": [
    {
     "data": {
      "text/plain": [
       "(2903, 16)"
      ]
     },
     "execution_count": 30,
     "metadata": {},
     "output_type": "execute_result"
    }
   ],
   "source": [
    "cond = (df.stade_de_developpement.isna()) & (df.hauteur_m < 8) & (df.circonference_cm < 50)\n",
    "df[cond].shape"
   ]
  },
  {
   "cell_type": "code",
   "execution_count": 32,
   "id": "3284ecdf",
   "metadata": {},
   "outputs": [],
   "source": [
    "df = df[(df.circonference_cm < 1000) & (df.hauteur_m < 100)].copy()"
   ]
  },
  {
   "cell_type": "code",
   "execution_count": 33,
   "id": "d686b782",
   "metadata": {},
   "outputs": [],
   "source": [
    "from scipy import stats\n",
    "df['z_circonference'] = stats.zscore(df.circonference_cm)\n",
    "df['z_hauteur'] = stats.zscore(df.hauteur_m)"
   ]
  },
  {
   "cell_type": "code",
   "execution_count": 34,
   "id": "957f9b39",
   "metadata": {},
   "outputs": [],
   "source": [
    "import numpy as np\n",
    "iqr = np.quantile(df.hauteur_m, q=[0.25, 0.75])\n",
    "limite_basse = iqr[0] - 1.5*(iqr[1] - iqr[0])\n",
    "limite_haute = iqr[1] + 1.5*(iqr[1] - iqr[0])"
   ]
  },
  {
   "cell_type": "code",
   "execution_count": 35,
   "id": "000660b3",
   "metadata": {},
   "outputs": [
    {
     "data": {
      "text/plain": [
       "petit    17875\n",
       "moyen    12568\n",
       "grand    12142\n",
       "Name: hauteur_m, dtype: int64"
      ]
     },
     "execution_count": 35,
     "metadata": {},
     "output_type": "execute_result"
    }
   ],
   "source": [
    "pd.qcut(df.hauteur_m, 3, labels=[\"petit\", \"moyen\", \"grand\"]).value_counts()"
   ]
  },
  {
   "cell_type": "code",
   "execution_count": 36,
   "id": "04fcee78",
   "metadata": {},
   "outputs": [
    {
     "data": {
      "text/plain": [
       "petit    40058\n",
       "moyen     2524\n",
       "grand        3\n",
       "Name: hauteur_m, dtype: int64"
      ]
     },
     "execution_count": 36,
     "metadata": {},
     "output_type": "execute_result"
    }
   ],
   "source": [
    "pd.cut(df.hauteur_m, 3, labels=[\"petit\", \"moyen\", \"grand\"]).value_counts()"
   ]
  },
  {
   "cell_type": "code",
   "execution_count": 37,
   "id": "1cf3a147",
   "metadata": {},
   "outputs": [
    {
     "ename": "NameError",
     "evalue": "name 'X' is not defined",
     "output_type": "error",
     "traceback": [
      "\u001b[0;31m---------------------------------------------------------------------------\u001b[0m",
      "\u001b[0;31mNameError\u001b[0m                                 Traceback (most recent call last)",
      "\u001b[0;32m<ipython-input-37-f50998f89f92>\u001b[0m in \u001b[0;36m<module>\u001b[0;34m\u001b[0m\n\u001b[0;32m----> 1\u001b[0;31m \u001b[0mX_normalized\u001b[0m \u001b[0;34m=\u001b[0m \u001b[0;34m(\u001b[0m\u001b[0mX\u001b[0m \u001b[0;34m-\u001b[0m \u001b[0mX_min\u001b[0m\u001b[0;34m)\u001b[0m \u001b[0;34m/\u001b[0m \u001b[0;34m(\u001b[0m\u001b[0mX_max\u001b[0m \u001b[0;34m-\u001b[0m \u001b[0mX_min\u001b[0m\u001b[0;34m)\u001b[0m\u001b[0;34m\u001b[0m\u001b[0;34m\u001b[0m\u001b[0m\n\u001b[0m",
      "\u001b[0;31mNameError\u001b[0m: name 'X' is not defined"
     ]
    }
   ],
   "source": [
    "#\"X_normalized = (X - X_min) / (X_max - X_min)"
   ]
  },
  {
   "cell_type": "code",
   "execution_count": 38,
   "id": "9670c08a",
   "metadata": {},
   "outputs": [],
   "source": [
    "#X_standardized = (X - X_mean) / X_stddev"
   ]
  },
  {
   "cell_type": "code",
   "execution_count": 39,
   "id": "7f55283f",
   "metadata": {},
   "outputs": [],
   "source": [
    "from sklearn.preprocessing import StandardScaler\n",
    "scaler = StandardScaler()\n",
    "df['hauteur_standard'] = scaler.fit_transform(df.hauteur_m.values.reshape(-1, 1))\n",
    "df['circonference_standard'] = scaler.fit_transform(df.circonference_cm.values.reshape(-1, 1)) "
   ]
  },
  {
   "cell_type": "code",
   "execution_count": 40,
   "id": "358fbf17",
   "metadata": {},
   "outputs": [],
   "source": [
    "df['circonference_log'] = np.log(df.circonference_cm + 1)\n",
    "df['hauteur_log'] = np.log(df.hauteur_m + 1)"
   ]
  },
  {
   "cell_type": "code",
   "execution_count": 41,
   "id": "62881a90",
   "metadata": {},
   "outputs": [],
   "source": [
    "   # Pour remédier aux valeurs manquantes, nous pouvons les remplacer par des valeurs arbitraires ou en fonction des valeurs de la variable en question.\n",
    "\n",
    "    #Pour détecter les valeurs aberrantes, on utilise la méthode du z-score ou de IQR.\n",
    "\n",
    "    #Et pour remédier aux valeurs aberrantes, nous pouvons discréditer la variable ou forcer une valeur maximum.\n",
    "\n",
    "    #Enfin, pour les variables d'amplitude nous pouvons les normaliser, les standardiser ou prendre leur logarithme."
   ]
  },
  {
   "cell_type": "code",
   "execution_count": null,
   "id": "daac237e",
   "metadata": {},
   "outputs": [],
   "source": [
    "####Transformez les variables pour faciliter l’apprentissage du modèle"
   ]
  }
 ],
 "metadata": {
  "kernelspec": {
   "display_name": "Python 3",
   "language": "python",
   "name": "python3"
  },
  "language_info": {
   "codemirror_mode": {
    "name": "ipython",
    "version": 3
   },
   "file_extension": ".py",
   "mimetype": "text/x-python",
   "name": "python",
   "nbconvert_exporter": "python",
   "pygments_lexer": "ipython3",
   "version": "3.8.8"
  }
 },
 "nbformat": 4,
 "nbformat_minor": 5
}
